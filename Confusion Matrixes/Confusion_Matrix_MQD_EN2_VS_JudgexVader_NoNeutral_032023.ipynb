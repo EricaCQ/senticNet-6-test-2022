{
 "cells": [
  {
   "cell_type": "code",
   "execution_count": 1,
   "id": "0d0c70fe",
   "metadata": {},
   "outputs": [
    {
     "name": "stdout",
     "output_type": "stream",
     "text": [
      "Keyring is skipped due to an exception: 'str' object has no attribute 'name'\n",
      "Requirement already satisfied: pandas in /Users/ericacarneiro/opt/anaconda3/lib/python3.9/site-packages (1.3.4)\n",
      "Requirement already satisfied: python-dateutil>=2.7.3 in /Users/ericacarneiro/opt/anaconda3/lib/python3.9/site-packages (from pandas) (2.8.2)\n",
      "Requirement already satisfied: pytz>=2017.3 in /Users/ericacarneiro/opt/anaconda3/lib/python3.9/site-packages (from pandas) (2021.3)\n",
      "Requirement already satisfied: numpy>=1.17.3 in /Users/ericacarneiro/opt/anaconda3/lib/python3.9/site-packages (from pandas) (1.22.4)\n",
      "Requirement already satisfied: six>=1.5 in /Users/ericacarneiro/opt/anaconda3/lib/python3.9/site-packages (from python-dateutil>=2.7.3->pandas) (1.12.0)\n",
      "Note: you may need to restart the kernel to use updated packages.\n"
     ]
    }
   ],
   "source": [
    "pip install pandas"
   ]
  },
  {
   "cell_type": "code",
   "execution_count": 2,
   "id": "2a283367",
   "metadata": {},
   "outputs": [
    {
     "name": "stdout",
     "output_type": "stream",
     "text": [
      "Keyring is skipped due to an exception: 'str' object has no attribute 'name'\n",
      "Requirement already satisfied: pillow in /Users/ericacarneiro/opt/anaconda3/lib/python3.9/site-packages (8.4.0)\n",
      "Note: you may need to restart the kernel to use updated packages.\n"
     ]
    }
   ],
   "source": [
    "pip install pillow"
   ]
  },
  {
   "cell_type": "code",
   "execution_count": 3,
   "id": "ed14b017",
   "metadata": {},
   "outputs": [
    {
     "name": "stdout",
     "output_type": "stream",
     "text": [
      "Keyring is skipped due to an exception: 'str' object has no attribute 'name'\n",
      "Requirement already satisfied: numpy in /Users/ericacarneiro/opt/anaconda3/lib/python3.9/site-packages (1.22.4)\n",
      "Note: you may need to restart the kernel to use updated packages.\n"
     ]
    }
   ],
   "source": [
    "pip install numpy"
   ]
  },
  {
   "cell_type": "code",
   "execution_count": 4,
   "id": "88011ca1",
   "metadata": {},
   "outputs": [
    {
     "name": "stdout",
     "output_type": "stream",
     "text": [
      "Keyring is skipped due to an exception: 'str' object has no attribute 'name'\n",
      "Requirement already satisfied: sklearn in /Users/ericacarneiro/opt/anaconda3/lib/python3.9/site-packages (0.0)\n",
      "Requirement already satisfied: scikit-learn in /Users/ericacarneiro/opt/anaconda3/lib/python3.9/site-packages (from sklearn) (0.24.2)\n",
      "Requirement already satisfied: numpy>=1.13.3 in /Users/ericacarneiro/opt/anaconda3/lib/python3.9/site-packages (from scikit-learn->sklearn) (1.22.4)\n",
      "Requirement already satisfied: threadpoolctl>=2.0.0 in /Users/ericacarneiro/opt/anaconda3/lib/python3.9/site-packages (from scikit-learn->sklearn) (2.2.0)\n",
      "Requirement already satisfied: scipy>=0.19.1 in /Users/ericacarneiro/opt/anaconda3/lib/python3.9/site-packages (from scikit-learn->sklearn) (1.7.1)\n",
      "Requirement already satisfied: joblib>=0.11 in /Users/ericacarneiro/opt/anaconda3/lib/python3.9/site-packages (from scikit-learn->sklearn) (1.1.0)\n",
      "Note: you may need to restart the kernel to use updated packages.\n"
     ]
    }
   ],
   "source": [
    "pip install sklearn"
   ]
  },
  {
   "cell_type": "code",
   "execution_count": 5,
   "id": "6116e5d7",
   "metadata": {},
   "outputs": [],
   "source": [
    "\n",
    "import pandas as pd\n",
    "from sklearn.feature_extraction.text import TfidfVectorizer\n",
    "from sklearn.cluster import KMeans\n",
    "\n",
    "from sklearn import svm\n",
    "from sklearn.svm import SVC\n",
    "from sklearn.naive_bayes import MultinomialNB\n",
    "from sklearn.neighbors import KNeighborsClassifier\n",
    "from sklearn.model_selection import cross_validate\n",
    "from sklearn.naive_bayes import GaussianNB\n",
    "\n",
    "\n",
    "\n",
    "import numpy as np\n",
    "import matplotlib.pyplot as plt\n",
    "from PIL import Image\n",
    "\n",
    "\n",
    "\n",
    "\n",
    "RANDOM_STATE = 0 "
   ]
  },
  {
   "cell_type": "code",
   "execution_count": 6,
   "id": "287d2b29",
   "metadata": {},
   "outputs": [
    {
     "name": "stdout",
     "output_type": "stream",
     "text": [
      "Keyring is skipped due to an exception: 'str' object has no attribute 'name'\n",
      "Requirement already satisfied: matplotlib in /Users/ericacarneiro/opt/anaconda3/lib/python3.9/site-packages (3.5.2)\n",
      "Requirement already satisfied: pyparsing>=2.2.1 in /Users/ericacarneiro/opt/anaconda3/lib/python3.9/site-packages (from matplotlib) (2.4.2)\n",
      "Requirement already satisfied: numpy>=1.17 in /Users/ericacarneiro/opt/anaconda3/lib/python3.9/site-packages (from matplotlib) (1.22.4)\n",
      "Requirement already satisfied: python-dateutil>=2.7 in /Users/ericacarneiro/opt/anaconda3/lib/python3.9/site-packages (from matplotlib) (2.8.2)\n",
      "Requirement already satisfied: kiwisolver>=1.0.1 in /Users/ericacarneiro/opt/anaconda3/lib/python3.9/site-packages (from matplotlib) (1.3.1)\n",
      "Requirement already satisfied: packaging>=20.0 in /Users/ericacarneiro/opt/anaconda3/lib/python3.9/site-packages (from matplotlib) (23.0)\n",
      "Requirement already satisfied: pillow>=6.2.0 in /Users/ericacarneiro/opt/anaconda3/lib/python3.9/site-packages (from matplotlib) (8.4.0)\n",
      "Requirement already satisfied: cycler>=0.10 in /Users/ericacarneiro/opt/anaconda3/lib/python3.9/site-packages (from matplotlib) (0.10.0)\n",
      "Requirement already satisfied: fonttools>=4.22.0 in /Users/ericacarneiro/opt/anaconda3/lib/python3.9/site-packages (from matplotlib) (4.25.0)\n",
      "Requirement already satisfied: six in /Users/ericacarneiro/opt/anaconda3/lib/python3.9/site-packages (from cycler>=0.10->matplotlib) (1.12.0)\n",
      "Note: you may need to restart the kernel to use updated packages.\n"
     ]
    }
   ],
   "source": [
    "pip install matplotlib"
   ]
  },
  {
   "cell_type": "code",
   "execution_count": 7,
   "id": "83596856",
   "metadata": {},
   "outputs": [],
   "source": [
    "import matplotlib\n",
    "import numpy as np\n",
    "import matplotlib.pyplot as plt\n"
   ]
  },
  {
   "cell_type": "code",
   "execution_count": 8,
   "id": "52623cd9",
   "metadata": {},
   "outputs": [],
   "source": [
    "np.set_printoptions(threshold=10000)"
   ]
  },
  {
   "cell_type": "code",
   "execution_count": 9,
   "id": "9ebdcf8b",
   "metadata": {},
   "outputs": [
    {
     "data": {
      "text/html": [
       "<div>\n",
       "<style scoped>\n",
       "    .dataframe tbody tr th:only-of-type {\n",
       "        vertical-align: middle;\n",
       "    }\n",
       "\n",
       "    .dataframe tbody tr th {\n",
       "        vertical-align: top;\n",
       "    }\n",
       "\n",
       "    .dataframe thead th {\n",
       "        text-align: right;\n",
       "    }\n",
       "</style>\n",
       "<table border=\"1\" class=\"dataframe\">\n",
       "  <thead>\n",
       "    <tr style=\"text-align: right;\">\n",
       "      <th></th>\n",
       "      <th>texto</th>\n",
       "      <th>Polarity Vader</th>\n",
       "    </tr>\n",
       "  </thead>\n",
       "  <tbody>\n",
       "    <tr>\n",
       "      <th>0</th>\n",
       "      <td>hi dear diary  one more time i am here feeling...</td>\n",
       "      <td>-1</td>\n",
       "    </tr>\n",
       "    <tr>\n",
       "      <th>1</th>\n",
       "      <td>it is wonderful know that each day we are unit...</td>\n",
       "      <td>1</td>\n",
       "    </tr>\n",
       "    <tr>\n",
       "      <th>2</th>\n",
       "      <td>in life we need count on the support of that p...</td>\n",
       "      <td>1</td>\n",
       "    </tr>\n",
       "    <tr>\n",
       "      <th>3</th>\n",
       "      <td>i am really happy and i hope that you too</td>\n",
       "      <td>1</td>\n",
       "    </tr>\n",
       "    <tr>\n",
       "      <th>4</th>\n",
       "      <td>to celebrate we order pizza  and i made a lett...</td>\n",
       "      <td>1</td>\n",
       "    </tr>\n",
       "  </tbody>\n",
       "</table>\n",
       "</div>"
      ],
      "text/plain": [
       "                                               texto  Polarity Vader\n",
       "0  hi dear diary  one more time i am here feeling...              -1\n",
       "1  it is wonderful know that each day we are unit...               1\n",
       "2  in life we need count on the support of that p...               1\n",
       "3        i am really happy and i hope that you too                 1\n",
       "4  to celebrate we order pizza  and i made a lett...               1"
      ]
     },
     "execution_count": 9,
     "metadata": {},
     "output_type": "execute_result"
    }
   ],
   "source": [
    "# Pandas funcionando com arquivo local\n",
    "f_vader = pd.read_csv(r\"vader_emo2_class.csv\", names = ['texto', 'Polarity Vader'])\n",
    "f_vader.head()"
   ]
  },
  {
   "cell_type": "code",
   "execution_count": 10,
   "id": "10d76df8",
   "metadata": {},
   "outputs": [
    {
     "data": {
      "text/plain": [
       "Index(['texto', 'Polarity Vader'], dtype='object')"
      ]
     },
     "execution_count": 10,
     "metadata": {},
     "output_type": "execute_result"
    }
   ],
   "source": [
    "f_vader.columns"
   ]
  },
  {
   "cell_type": "code",
   "execution_count": 11,
   "id": "dfc41eed",
   "metadata": {},
   "outputs": [],
   "source": [
    "f_vader = f_vader.reset_index()"
   ]
  },
  {
   "cell_type": "code",
   "execution_count": 12,
   "id": "987f48af",
   "metadata": {},
   "outputs": [
    {
     "data": {
      "text/html": [
       "<div>\n",
       "<style scoped>\n",
       "    .dataframe tbody tr th:only-of-type {\n",
       "        vertical-align: middle;\n",
       "    }\n",
       "\n",
       "    .dataframe tbody tr th {\n",
       "        vertical-align: top;\n",
       "    }\n",
       "\n",
       "    .dataframe thead th {\n",
       "        text-align: right;\n",
       "    }\n",
       "</style>\n",
       "<table border=\"1\" class=\"dataframe\">\n",
       "  <thead>\n",
       "    <tr style=\"text-align: right;\">\n",
       "      <th></th>\n",
       "      <th>texto</th>\n",
       "      <th>Polarity Judge</th>\n",
       "      <th>Juiz</th>\n",
       "    </tr>\n",
       "  </thead>\n",
       "  <tbody>\n",
       "    <tr>\n",
       "      <th>36</th>\n",
       "      <td>Oi querido diário, mais uma vez estou aqui me ...</td>\n",
       "      <td>-1</td>\n",
       "      <td>3</td>\n",
       "    </tr>\n",
       "    <tr>\n",
       "      <th>37</th>\n",
       "      <td>É maravilhoso saber que a cada dia estamos nos...</td>\n",
       "      <td>1</td>\n",
       "      <td>3</td>\n",
       "    </tr>\n",
       "    <tr>\n",
       "      <th>38</th>\n",
       "      <td>Na vida precisamos contar com o apoio daquela ...</td>\n",
       "      <td>0</td>\n",
       "      <td>3</td>\n",
       "    </tr>\n",
       "    <tr>\n",
       "      <th>39</th>\n",
       "      <td>Estou muito feliz e espero que você também.</td>\n",
       "      <td>1</td>\n",
       "      <td>3</td>\n",
       "    </tr>\n",
       "    <tr>\n",
       "      <th>40</th>\n",
       "      <td>Pra comemorar pedimos pizza, e eu fiz uma cart...</td>\n",
       "      <td>1</td>\n",
       "      <td>3</td>\n",
       "    </tr>\n",
       "  </tbody>\n",
       "</table>\n",
       "</div>"
      ],
      "text/plain": [
       "                                                texto  Polarity Judge  Juiz\n",
       "36  Oi querido diário, mais uma vez estou aqui me ...              -1     3\n",
       "37  É maravilhoso saber que a cada dia estamos nos...               1     3\n",
       "38  Na vida precisamos contar com o apoio daquela ...               0     3\n",
       "39        Estou muito feliz e espero que você também.               1     3\n",
       "40  Pra comemorar pedimos pizza, e eu fiz uma cart...               1     3"
      ]
     },
     "execution_count": 12,
     "metadata": {},
     "output_type": "execute_result"
    }
   ],
   "source": [
    "\n",
    "f_mqd = pd.read_csv(r\"https://raw.githubusercontent.com/LaCAfe/MQD-1465/main/MQD-1465.csv\", names = ['texto', 'Polarity Judge', 'Juiz'])\n",
    "f_mqd.head()"
   ]
  },
  {
   "cell_type": "code",
   "execution_count": 13,
   "id": "d78fd6eb",
   "metadata": {},
   "outputs": [
    {
     "data": {
      "text/plain": [
       "Index(['texto', 'Polarity Judge', 'Juiz'], dtype='object')"
      ]
     },
     "execution_count": 13,
     "metadata": {},
     "output_type": "execute_result"
    }
   ],
   "source": [
    "f_mqd.columns"
   ]
  },
  {
   "cell_type": "code",
   "execution_count": 14,
   "id": "b7d8d7bd",
   "metadata": {},
   "outputs": [],
   "source": [
    "f_mqd2 = f_mqd.reset_index()"
   ]
  },
  {
   "cell_type": "code",
   "execution_count": 15,
   "id": "bf12fc9d",
   "metadata": {
    "scrolled": true
   },
   "outputs": [
    {
     "data": {
      "text/html": [
       "<div>\n",
       "<style scoped>\n",
       "    .dataframe tbody tr th:only-of-type {\n",
       "        vertical-align: middle;\n",
       "    }\n",
       "\n",
       "    .dataframe tbody tr th {\n",
       "        vertical-align: top;\n",
       "    }\n",
       "\n",
       "    .dataframe thead th {\n",
       "        text-align: right;\n",
       "    }\n",
       "</style>\n",
       "<table border=\"1\" class=\"dataframe\">\n",
       "  <thead>\n",
       "    <tr style=\"text-align: right;\">\n",
       "      <th></th>\n",
       "      <th>index</th>\n",
       "      <th>texto</th>\n",
       "      <th>Polarity Judge</th>\n",
       "      <th>Juiz</th>\n",
       "      <th>index</th>\n",
       "      <th>texto</th>\n",
       "      <th>Polarity Vader</th>\n",
       "    </tr>\n",
       "  </thead>\n",
       "  <tbody>\n",
       "    <tr>\n",
       "      <th>0</th>\n",
       "      <td>36</td>\n",
       "      <td>Oi querido diário, mais uma vez estou aqui me ...</td>\n",
       "      <td>-1</td>\n",
       "      <td>3</td>\n",
       "      <td>0</td>\n",
       "      <td>hi dear diary  one more time i am here feeling...</td>\n",
       "      <td>-1</td>\n",
       "    </tr>\n",
       "    <tr>\n",
       "      <th>1</th>\n",
       "      <td>37</td>\n",
       "      <td>É maravilhoso saber que a cada dia estamos nos...</td>\n",
       "      <td>1</td>\n",
       "      <td>3</td>\n",
       "      <td>1</td>\n",
       "      <td>it is wonderful know that each day we are unit...</td>\n",
       "      <td>1</td>\n",
       "    </tr>\n",
       "    <tr>\n",
       "      <th>2</th>\n",
       "      <td>38</td>\n",
       "      <td>Na vida precisamos contar com o apoio daquela ...</td>\n",
       "      <td>0</td>\n",
       "      <td>3</td>\n",
       "      <td>2</td>\n",
       "      <td>in life we need count on the support of that p...</td>\n",
       "      <td>1</td>\n",
       "    </tr>\n",
       "    <tr>\n",
       "      <th>3</th>\n",
       "      <td>39</td>\n",
       "      <td>Estou muito feliz e espero que você também.</td>\n",
       "      <td>1</td>\n",
       "      <td>3</td>\n",
       "      <td>3</td>\n",
       "      <td>i am really happy and i hope that you too</td>\n",
       "      <td>1</td>\n",
       "    </tr>\n",
       "    <tr>\n",
       "      <th>4</th>\n",
       "      <td>40</td>\n",
       "      <td>Pra comemorar pedimos pizza, e eu fiz uma cart...</td>\n",
       "      <td>1</td>\n",
       "      <td>3</td>\n",
       "      <td>4</td>\n",
       "      <td>to celebrate we order pizza  and i made a lett...</td>\n",
       "      <td>1</td>\n",
       "    </tr>\n",
       "    <tr>\n",
       "      <th>...</th>\n",
       "      <td>...</td>\n",
       "      <td>...</td>\n",
       "      <td>...</td>\n",
       "      <td>...</td>\n",
       "      <td>...</td>\n",
       "      <td>...</td>\n",
       "      <td>...</td>\n",
       "    </tr>\n",
       "    <tr>\n",
       "      <th>1460</th>\n",
       "      <td>1531</td>\n",
       "      <td>Atualmente estou em um relacionamento homossex...</td>\n",
       "      <td>0</td>\n",
       "      <td>2</td>\n",
       "      <td>1460</td>\n",
       "      <td>nowadays  i'm in a homosexual relationship</td>\n",
       "      <td>0</td>\n",
       "    </tr>\n",
       "    <tr>\n",
       "      <th>1461</th>\n",
       "      <td>1532</td>\n",
       "      <td>Hoje iniciei o dia conversando com o Gabriel, ...</td>\n",
       "      <td>0</td>\n",
       "      <td>3</td>\n",
       "      <td>1461</td>\n",
       "      <td>today  i started the day talking with gabriel ...</td>\n",
       "      <td>1</td>\n",
       "    </tr>\n",
       "    <tr>\n",
       "      <th>1462</th>\n",
       "      <td>1533</td>\n",
       "      <td>Mas ele é lindo, aquele sorriso, a forma como ...</td>\n",
       "      <td>1</td>\n",
       "      <td>3</td>\n",
       "      <td>1462</td>\n",
       "      <td>but he is handsome  that smile  the way he tal...</td>\n",
       "      <td>1</td>\n",
       "    </tr>\n",
       "    <tr>\n",
       "      <th>1463</th>\n",
       "      <td>1534</td>\n",
       "      <td>Mandei um e-mail para o meu \"colega\" na quarta...</td>\n",
       "      <td>0</td>\n",
       "      <td>3</td>\n",
       "      <td>1463</td>\n",
       "      <td>i sent an e mail to my \"colleague\" last wednes...</td>\n",
       "      <td>0</td>\n",
       "    </tr>\n",
       "    <tr>\n",
       "      <th>1464</th>\n",
       "      <td>1535</td>\n",
       "      <td>Não quero que me juguem, me xinguem ou coisa p...</td>\n",
       "      <td>-1</td>\n",
       "      <td>2</td>\n",
       "      <td>1464</td>\n",
       "      <td>i don't want to be judged  curse me or somethi...</td>\n",
       "      <td>-1</td>\n",
       "    </tr>\n",
       "  </tbody>\n",
       "</table>\n",
       "<p>1465 rows × 7 columns</p>\n",
       "</div>"
      ],
      "text/plain": [
       "      index                                              texto  \\\n",
       "0        36  Oi querido diário, mais uma vez estou aqui me ...   \n",
       "1        37  É maravilhoso saber que a cada dia estamos nos...   \n",
       "2        38  Na vida precisamos contar com o apoio daquela ...   \n",
       "3        39        Estou muito feliz e espero que você também.   \n",
       "4        40  Pra comemorar pedimos pizza, e eu fiz uma cart...   \n",
       "...     ...                                                ...   \n",
       "1460   1531  Atualmente estou em um relacionamento homossex...   \n",
       "1461   1532  Hoje iniciei o dia conversando com o Gabriel, ...   \n",
       "1462   1533  Mas ele é lindo, aquele sorriso, a forma como ...   \n",
       "1463   1534  Mandei um e-mail para o meu \"colega\" na quarta...   \n",
       "1464   1535  Não quero que me juguem, me xinguem ou coisa p...   \n",
       "\n",
       "      Polarity Judge  Juiz  index  \\\n",
       "0                 -1     3      0   \n",
       "1                  1     3      1   \n",
       "2                  0     3      2   \n",
       "3                  1     3      3   \n",
       "4                  1     3      4   \n",
       "...              ...   ...    ...   \n",
       "1460               0     2   1460   \n",
       "1461               0     3   1461   \n",
       "1462               1     3   1462   \n",
       "1463               0     3   1463   \n",
       "1464              -1     2   1464   \n",
       "\n",
       "                                                  texto  Polarity Vader  \n",
       "0     hi dear diary  one more time i am here feeling...              -1  \n",
       "1     it is wonderful know that each day we are unit...               1  \n",
       "2     in life we need count on the support of that p...               1  \n",
       "3           i am really happy and i hope that you too                 1  \n",
       "4     to celebrate we order pizza  and i made a lett...               1  \n",
       "...                                                 ...             ...  \n",
       "1460       nowadays  i'm in a homosexual relationship                 0  \n",
       "1461  today  i started the day talking with gabriel ...               1  \n",
       "1462  but he is handsome  that smile  the way he tal...               1  \n",
       "1463  i sent an e mail to my \"colleague\" last wednes...               0  \n",
       "1464  i don't want to be judged  curse me or somethi...              -1  \n",
       "\n",
       "[1465 rows x 7 columns]"
      ]
     },
     "execution_count": 15,
     "metadata": {},
     "output_type": "execute_result"
    }
   ],
   "source": [
    "#Concatena dois dataframes em um terceiro, novo dataframe\n",
    "f = pd.concat([f_mqd2, f_vader], axis=1)\n",
    "\n",
    "\n",
    "f"
   ]
  },
  {
   "cell_type": "code",
   "execution_count": 16,
   "id": "0188d331",
   "metadata": {},
   "outputs": [
    {
     "data": {
      "text/html": [
       "<div>\n",
       "<style scoped>\n",
       "    .dataframe tbody tr th:only-of-type {\n",
       "        vertical-align: middle;\n",
       "    }\n",
       "\n",
       "    .dataframe tbody tr th {\n",
       "        vertical-align: top;\n",
       "    }\n",
       "\n",
       "    .dataframe thead th {\n",
       "        text-align: right;\n",
       "    }\n",
       "</style>\n",
       "<table border=\"1\" class=\"dataframe\">\n",
       "  <thead>\n",
       "    <tr style=\"text-align: right;\">\n",
       "      <th></th>\n",
       "      <th>index</th>\n",
       "      <th>texto</th>\n",
       "      <th>Polarity Judge</th>\n",
       "      <th>Juiz</th>\n",
       "      <th>index</th>\n",
       "      <th>texto</th>\n",
       "      <th>Polarity Vader</th>\n",
       "    </tr>\n",
       "  </thead>\n",
       "  <tbody>\n",
       "    <tr>\n",
       "      <th>0</th>\n",
       "      <td>36</td>\n",
       "      <td>Oi querido diário, mais uma vez estou aqui me ...</td>\n",
       "      <td>-1</td>\n",
       "      <td>3</td>\n",
       "      <td>0</td>\n",
       "      <td>hi dear diary  one more time i am here feeling...</td>\n",
       "      <td>-1</td>\n",
       "    </tr>\n",
       "    <tr>\n",
       "      <th>1</th>\n",
       "      <td>37</td>\n",
       "      <td>É maravilhoso saber que a cada dia estamos nos...</td>\n",
       "      <td>1</td>\n",
       "      <td>3</td>\n",
       "      <td>1</td>\n",
       "      <td>it is wonderful know that each day we are unit...</td>\n",
       "      <td>1</td>\n",
       "    </tr>\n",
       "    <tr>\n",
       "      <th>3</th>\n",
       "      <td>39</td>\n",
       "      <td>Estou muito feliz e espero que você também.</td>\n",
       "      <td>1</td>\n",
       "      <td>3</td>\n",
       "      <td>3</td>\n",
       "      <td>i am really happy and i hope that you too</td>\n",
       "      <td>1</td>\n",
       "    </tr>\n",
       "    <tr>\n",
       "      <th>4</th>\n",
       "      <td>40</td>\n",
       "      <td>Pra comemorar pedimos pizza, e eu fiz uma cart...</td>\n",
       "      <td>1</td>\n",
       "      <td>3</td>\n",
       "      <td>4</td>\n",
       "      <td>to celebrate we order pizza  and i made a lett...</td>\n",
       "      <td>1</td>\n",
       "    </tr>\n",
       "    <tr>\n",
       "      <th>5</th>\n",
       "      <td>41</td>\n",
       "      <td>Nós possuímos o ingrediente básico que tudo su...</td>\n",
       "      <td>1</td>\n",
       "      <td>2</td>\n",
       "      <td>5</td>\n",
       "      <td>we own the basic ingredient that will all supp...</td>\n",
       "      <td>1</td>\n",
       "    </tr>\n",
       "  </tbody>\n",
       "</table>\n",
       "</div>"
      ],
      "text/plain": [
       "   index                                              texto  Polarity Judge  \\\n",
       "0     36  Oi querido diário, mais uma vez estou aqui me ...              -1   \n",
       "1     37  É maravilhoso saber que a cada dia estamos nos...               1   \n",
       "3     39        Estou muito feliz e espero que você também.               1   \n",
       "4     40  Pra comemorar pedimos pizza, e eu fiz uma cart...               1   \n",
       "5     41  Nós possuímos o ingrediente básico que tudo su...               1   \n",
       "\n",
       "   Juiz  index                                              texto  \\\n",
       "0     3      0  hi dear diary  one more time i am here feeling...   \n",
       "1     3      1  it is wonderful know that each day we are unit...   \n",
       "3     3      3        i am really happy and i hope that you too     \n",
       "4     3      4  to celebrate we order pizza  and i made a lett...   \n",
       "5     2      5  we own the basic ingredient that will all supp...   \n",
       "\n",
       "   Polarity Vader  \n",
       "0              -1  \n",
       "1               1  \n",
       "3               1  \n",
       "4               1  \n",
       "5               1  "
      ]
     },
     "execution_count": 16,
     "metadata": {},
     "output_type": "execute_result"
    }
   ],
   "source": [
    "#f.drop(['Polarity Judge']==0, axis=0, inplace= True)\n",
    "\n",
    "f2= f[f['Polarity Judge']!=0].copy()\n",
    "\n",
    "f2.head()"
   ]
  },
  {
   "cell_type": "code",
   "execution_count": 17,
   "id": "bed49abc",
   "metadata": {},
   "outputs": [
    {
     "data": {
      "text/html": [
       "<div>\n",
       "<style scoped>\n",
       "    .dataframe tbody tr th:only-of-type {\n",
       "        vertical-align: middle;\n",
       "    }\n",
       "\n",
       "    .dataframe tbody tr th {\n",
       "        vertical-align: top;\n",
       "    }\n",
       "\n",
       "    .dataframe thead th {\n",
       "        text-align: right;\n",
       "    }\n",
       "</style>\n",
       "<table border=\"1\" class=\"dataframe\">\n",
       "  <thead>\n",
       "    <tr style=\"text-align: right;\">\n",
       "      <th></th>\n",
       "      <th>index</th>\n",
       "      <th>texto</th>\n",
       "      <th>Polarity Judge</th>\n",
       "      <th>Juiz</th>\n",
       "      <th>index</th>\n",
       "      <th>texto</th>\n",
       "      <th>Polarity Vader</th>\n",
       "    </tr>\n",
       "  </thead>\n",
       "  <tbody>\n",
       "    <tr>\n",
       "      <th>0</th>\n",
       "      <td>36</td>\n",
       "      <td>Oi querido diário, mais uma vez estou aqui me ...</td>\n",
       "      <td>-1</td>\n",
       "      <td>3</td>\n",
       "      <td>0</td>\n",
       "      <td>hi dear diary  one more time i am here feeling...</td>\n",
       "      <td>-1</td>\n",
       "    </tr>\n",
       "    <tr>\n",
       "      <th>1</th>\n",
       "      <td>37</td>\n",
       "      <td>É maravilhoso saber que a cada dia estamos nos...</td>\n",
       "      <td>1</td>\n",
       "      <td>3</td>\n",
       "      <td>1</td>\n",
       "      <td>it is wonderful know that each day we are unit...</td>\n",
       "      <td>1</td>\n",
       "    </tr>\n",
       "    <tr>\n",
       "      <th>3</th>\n",
       "      <td>39</td>\n",
       "      <td>Estou muito feliz e espero que você também.</td>\n",
       "      <td>1</td>\n",
       "      <td>3</td>\n",
       "      <td>3</td>\n",
       "      <td>i am really happy and i hope that you too</td>\n",
       "      <td>1</td>\n",
       "    </tr>\n",
       "    <tr>\n",
       "      <th>4</th>\n",
       "      <td>40</td>\n",
       "      <td>Pra comemorar pedimos pizza, e eu fiz uma cart...</td>\n",
       "      <td>1</td>\n",
       "      <td>3</td>\n",
       "      <td>4</td>\n",
       "      <td>to celebrate we order pizza  and i made a lett...</td>\n",
       "      <td>1</td>\n",
       "    </tr>\n",
       "    <tr>\n",
       "      <th>5</th>\n",
       "      <td>41</td>\n",
       "      <td>Nós possuímos o ingrediente básico que tudo su...</td>\n",
       "      <td>1</td>\n",
       "      <td>2</td>\n",
       "      <td>5</td>\n",
       "      <td>we own the basic ingredient that will all supp...</td>\n",
       "      <td>1</td>\n",
       "    </tr>\n",
       "  </tbody>\n",
       "</table>\n",
       "</div>"
      ],
      "text/plain": [
       "   index                                              texto  Polarity Judge  \\\n",
       "0     36  Oi querido diário, mais uma vez estou aqui me ...              -1   \n",
       "1     37  É maravilhoso saber que a cada dia estamos nos...               1   \n",
       "3     39        Estou muito feliz e espero que você também.               1   \n",
       "4     40  Pra comemorar pedimos pizza, e eu fiz uma cart...               1   \n",
       "5     41  Nós possuímos o ingrediente básico que tudo su...               1   \n",
       "\n",
       "   Juiz  index                                              texto  \\\n",
       "0     3      0  hi dear diary  one more time i am here feeling...   \n",
       "1     3      1  it is wonderful know that each day we are unit...   \n",
       "3     3      3        i am really happy and i hope that you too     \n",
       "4     3      4  to celebrate we order pizza  and i made a lett...   \n",
       "5     2      5  we own the basic ingredient that will all supp...   \n",
       "\n",
       "   Polarity Vader  \n",
       "0              -1  \n",
       "1               1  \n",
       "3               1  \n",
       "4               1  \n",
       "5               1  "
      ]
     },
     "execution_count": 17,
     "metadata": {},
     "output_type": "execute_result"
    }
   ],
   "source": [
    "f3= f2[f2['Polarity Vader']!=0].copy()\n",
    "\n",
    "f3.head()"
   ]
  },
  {
   "cell_type": "code",
   "execution_count": 18,
   "id": "3cf16b0f",
   "metadata": {},
   "outputs": [
    {
     "data": {
      "text/plain": [
       "pandas.core.series.Series"
      ]
     },
     "execution_count": 18,
     "metadata": {},
     "output_type": "execute_result"
    }
   ],
   "source": [
    "type(f3['Polarity Judge'])"
   ]
  },
  {
   "cell_type": "code",
   "execution_count": 19,
   "id": "d1260ad1",
   "metadata": {},
   "outputs": [
    {
     "data": {
      "text/plain": [
       "index              int64\n",
       "texto             object\n",
       "Polarity Judge     int64\n",
       "Juiz               int64\n",
       "index              int64\n",
       "texto             object\n",
       "Polarity Vader     int64\n",
       "dtype: object"
      ]
     },
     "execution_count": 19,
     "metadata": {},
     "output_type": "execute_result"
    }
   ],
   "source": [
    "f3.dtypes"
   ]
  },
  {
   "cell_type": "code",
   "execution_count": 20,
   "id": "b5120b45",
   "metadata": {},
   "outputs": [
    {
     "data": {
      "text/plain": [
       "array([-1,  1,  1,  1,  1, -1, -1, -1, -1, -1,  1,  1,  1, -1,  1, -1,  1,\n",
       "        1,  1,  1, -1, -1, -1,  1, -1, -1, -1, -1,  1,  1,  1,  1,  1, -1,\n",
       "       -1, -1, -1, -1, -1, -1, -1, -1, -1, -1, -1, -1,  1, -1, -1, -1,  1,\n",
       "        1,  1, -1,  1, -1, -1,  1, -1, -1, -1, -1,  1, -1,  1,  1,  1,  1,\n",
       "        1,  1,  1, -1, -1, -1, -1, -1, -1,  1, -1, -1, -1, -1, -1, -1, -1,\n",
       "        1, -1, -1, -1, -1,  1,  1, -1, -1, -1, -1, -1, -1,  1,  1,  1, -1,\n",
       "       -1, -1, -1, -1, -1, -1, -1, -1, -1, -1, -1, -1, -1, -1,  1, -1, -1,\n",
       "       -1, -1, -1, -1, -1, -1,  1, -1,  1,  1,  1,  1, -1,  1, -1, -1, -1,\n",
       "        1, -1, -1, -1, -1, -1, -1,  1,  1,  1, -1,  1, -1, -1, -1,  1, -1,\n",
       "       -1, -1, -1, -1,  1, -1, -1, -1, -1, -1, -1, -1, -1, -1, -1, -1, -1,\n",
       "       -1, -1, -1, -1, -1,  1, -1, -1, -1, -1, -1, -1,  1, -1, -1, -1,  1,\n",
       "        1, -1, -1, -1, -1, -1, -1, -1, -1, -1, -1,  1,  1,  1,  1,  1,  1,\n",
       "        1,  1,  1,  1,  1,  1, -1, -1, -1, -1,  1, -1, -1, -1, -1, -1, -1,\n",
       "       -1, -1, -1, -1, -1, -1, -1,  1,  1, -1, -1, -1,  1,  1,  1,  1,  1,\n",
       "       -1, -1, -1, -1,  1,  1,  1,  1,  1, -1,  1, -1,  1,  1, -1, -1,  1,\n",
       "        1,  1,  1,  1,  1,  1,  1,  1, -1, -1, -1, -1, -1, -1, -1, -1,  1,\n",
       "       -1,  1,  1,  1,  1,  1, -1, -1, -1, -1, -1,  1, -1,  1, -1, -1,  1,\n",
       "        1,  1, -1,  1,  1, -1,  1,  1, -1, -1,  1,  1,  1, -1, -1, -1,  1,\n",
       "        1,  1,  1,  1,  1,  1,  1,  1,  1,  1,  1,  1,  1,  1,  1,  1, -1,\n",
       "        1, -1, -1, -1, -1, -1, -1, -1,  1, -1, -1, -1, -1, -1,  1,  1, -1,\n",
       "       -1, -1, -1, -1, -1,  1, -1, -1, -1, -1, -1, -1, -1, -1,  1,  1, -1,\n",
       "        1,  1,  1,  1,  1,  1, -1, -1, -1,  1, -1, -1, -1, -1, -1, -1, -1,\n",
       "       -1, -1, -1, -1, -1, -1,  1,  1,  1,  1,  1,  1,  1, -1,  1, -1,  1,\n",
       "       -1, -1,  1,  1,  1,  1,  1,  1,  1,  1, -1, -1,  1,  1,  1,  1,  1,\n",
       "       -1,  1, -1,  1, -1,  1,  1,  1,  1, -1, -1, -1, -1, -1, -1, -1,  1,\n",
       "       -1, -1, -1, -1, -1, -1, -1, -1, -1, -1,  1,  1,  1, -1,  1,  1, -1,\n",
       "       -1,  1,  1,  1,  1, -1,  1,  1,  1,  1,  1,  1,  1,  1,  1,  1,  1,\n",
       "        1,  1,  1,  1,  1,  1,  1,  1,  1,  1,  1, -1, -1, -1, -1,  1, -1,\n",
       "       -1, -1,  1,  1,  1, -1, -1,  1,  1,  1,  1,  1,  1,  1, -1, -1, -1,\n",
       "       -1,  1,  1,  1, -1,  1,  1, -1, -1, -1,  1, -1, -1, -1,  1, -1, -1,\n",
       "       -1, -1, -1, -1,  1,  1, -1, -1, -1,  1,  1, -1, -1,  1, -1, -1,  1,\n",
       "       -1, -1,  1,  1, -1, -1, -1, -1, -1,  1,  1,  1,  1, -1, -1, -1, -1,\n",
       "        1, -1,  1,  1, -1,  1, -1, -1, -1, -1, -1, -1, -1, -1, -1, -1, -1,\n",
       "        1, -1, -1, -1, -1, -1,  1,  1, -1,  1,  1,  1,  1, -1,  1, -1, -1,\n",
       "       -1, -1, -1, -1, -1, -1, -1, -1, -1, -1, -1, -1, -1, -1, -1, -1, -1,\n",
       "       -1, -1,  1,  1,  1,  1,  1, -1,  1, -1,  1,  1, -1, -1, -1,  1, -1,\n",
       "       -1, -1, -1, -1,  1,  1, -1, -1, -1,  1, -1, -1, -1, -1, -1,  1, -1,\n",
       "       -1,  1,  1, -1, -1,  1, -1, -1, -1, -1, -1, -1,  1,  1,  1,  1, -1,\n",
       "        1,  1,  1,  1, -1,  1, -1, -1, -1, -1, -1, -1, -1, -1, -1, -1, -1,\n",
       "       -1,  1,  1,  1,  1,  1,  1,  1,  1,  1, -1, -1, -1, -1, -1, -1, -1,\n",
       "        1,  1, -1, -1, -1, -1, -1, -1, -1, -1, -1, -1, -1, -1, -1, -1, -1,\n",
       "       -1,  1, -1,  1,  1, -1,  1, -1, -1, -1, -1, -1, -1, -1, -1, -1, -1,\n",
       "       -1, -1,  1,  1,  1, -1,  1,  1,  1,  1,  1,  1,  1,  1,  1,  1,  1,\n",
       "        1,  1,  1, -1, -1,  1,  1,  1,  1,  1,  1,  1, -1, -1, -1,  1,  1,\n",
       "        1, -1,  1,  1,  1,  1,  1,  1,  1, -1,  1,  1, -1,  1, -1, -1, -1,\n",
       "       -1, -1, -1, -1,  1,  1, -1,  1, -1,  1,  1, -1, -1,  1, -1, -1, -1,\n",
       "       -1, -1, -1,  1, -1, -1, -1, -1,  1,  1, -1,  1, -1,  1,  1, -1, -1,\n",
       "       -1,  1,  1,  1,  1, -1, -1, -1,  1,  1,  1,  1,  1,  1,  1,  1,  1,\n",
       "       -1,  1,  1,  1,  1,  1,  1,  1,  1,  1,  1,  1,  1,  1,  1,  1,  1,\n",
       "        1,  1,  1,  1,  1,  1,  1,  1,  1,  1,  1,  1,  1,  1,  1,  1,  1,\n",
       "        1,  1,  1,  1,  1,  1,  1,  1,  1,  1,  1,  1,  1,  1,  1,  1,  1,\n",
       "        1,  1,  1,  1,  1,  1,  1,  1,  1,  1,  1,  1,  1,  1,  1,  1,  1,\n",
       "       -1,  1,  1,  1,  1,  1,  1,  1,  1,  1,  1,  1,  1,  1,  1,  1,  1,\n",
       "        1,  1,  1,  1,  1,  1,  1,  1,  1,  1,  1,  1,  1,  1,  1,  1,  1,\n",
       "        1,  1,  1,  1,  1,  1,  1,  1,  1,  1,  1,  1,  1,  1,  1,  1,  1,\n",
       "        1,  1,  1,  1,  1, -1])"
      ]
     },
     "execution_count": 20,
     "metadata": {},
     "output_type": "execute_result"
    }
   ],
   "source": [
    "polarity_judge = f3['Polarity Judge'].values\n",
    "polarity_judge"
   ]
  },
  {
   "cell_type": "code",
   "execution_count": 21,
   "id": "147d4e9e",
   "metadata": {},
   "outputs": [
    {
     "data": {
      "text/plain": [
       "array([-1,  1,  1,  1,  1, -1, -1, -1, -1, -1,  1,  1,  1, -1,  1, -1,  1,\n",
       "        1,  1,  1, -1, -1, -1,  1, -1, -1, -1, -1,  1,  1,  1,  1,  1, -1,\n",
       "       -1, -1, -1, -1, -1, -1, -1, -1, -1, -1, -1, -1,  1, -1, -1, -1,  1,\n",
       "        1,  1, -1,  1, -1, -1,  1, -1, -1, -1, -1,  1, -1,  1,  1,  1,  1,\n",
       "        1,  1,  1, -1, -1, -1, -1, -1, -1,  1, -1, -1, -1, -1, -1, -1, -1,\n",
       "        1, -1, -1, -1, -1,  1,  1, -1, -1, -1, -1, -1, -1,  1,  1,  1, -1,\n",
       "       -1, -1, -1, -1, -1, -1, -1, -1, -1, -1, -1, -1, -1, -1,  1, -1, -1,\n",
       "       -1, -1, -1, -1, -1, -1,  1, -1,  1,  1,  1,  1, -1,  1, -1, -1, -1,\n",
       "        1, -1, -1, -1, -1, -1, -1,  1,  1,  1, -1,  1, -1, -1, -1,  1, -1,\n",
       "       -1, -1, -1, -1,  1, -1, -1, -1, -1, -1, -1, -1, -1, -1, -1, -1, -1,\n",
       "       -1, -1, -1, -1, -1,  1, -1, -1, -1, -1, -1, -1,  1, -1, -1, -1,  1,\n",
       "        1, -1, -1, -1, -1, -1, -1, -1, -1, -1, -1,  1,  1,  1,  1,  1,  1,\n",
       "        1,  1,  1,  1,  1,  1, -1, -1, -1, -1,  1, -1, -1, -1, -1, -1, -1,\n",
       "       -1, -1, -1, -1, -1, -1, -1,  1,  1, -1, -1, -1,  1,  1,  1,  1,  1,\n",
       "       -1, -1, -1, -1,  1,  1,  1,  1,  1, -1,  1, -1,  1,  1, -1, -1,  1,\n",
       "        1,  1,  1,  1,  1,  1,  1,  1, -1, -1, -1, -1, -1, -1, -1, -1,  1,\n",
       "       -1,  1,  1,  1,  1,  1, -1, -1, -1, -1, -1,  1, -1,  1, -1, -1,  1,\n",
       "        1,  1, -1,  1,  1, -1,  1,  1, -1, -1,  1,  1,  1, -1, -1, -1,  1,\n",
       "        1,  1,  1,  1,  1,  1,  1,  1,  1,  1,  1,  1,  1,  1,  1,  1, -1,\n",
       "        1, -1, -1, -1, -1, -1, -1, -1,  1, -1, -1, -1, -1, -1,  1,  1, -1,\n",
       "       -1, -1, -1, -1, -1,  1, -1, -1, -1, -1, -1, -1, -1, -1,  1,  1, -1,\n",
       "        1,  1,  1,  1,  1,  1, -1, -1, -1,  1, -1, -1, -1, -1, -1, -1, -1,\n",
       "       -1, -1, -1, -1, -1, -1,  1,  1,  1,  1,  1,  1,  1, -1,  1, -1,  1,\n",
       "       -1, -1,  1,  1,  1,  1,  1,  1,  1,  1, -1, -1,  1,  1,  1,  1,  1,\n",
       "       -1,  1, -1,  1, -1,  1,  1,  1,  1, -1, -1, -1, -1, -1, -1, -1,  1,\n",
       "       -1, -1, -1, -1, -1, -1, -1, -1, -1, -1,  1,  1,  1, -1,  1,  1, -1,\n",
       "       -1,  1,  1,  1,  1, -1,  1,  1,  1,  1,  1,  1,  1,  1,  1,  1,  1,\n",
       "        1,  1,  1,  1,  1,  1,  1,  1,  1,  1,  1, -1, -1, -1, -1,  1, -1,\n",
       "       -1, -1,  1,  1,  1, -1, -1,  1,  1,  1,  1,  1,  1,  1, -1, -1, -1,\n",
       "       -1,  1,  1,  1, -1,  1,  1, -1, -1, -1,  1, -1, -1, -1,  1, -1, -1,\n",
       "       -1, -1, -1, -1,  1,  1, -1, -1, -1,  1,  1, -1, -1,  1, -1, -1,  1,\n",
       "       -1, -1,  1,  1, -1, -1, -1, -1, -1,  1,  1,  1,  1, -1, -1, -1, -1,\n",
       "        1, -1,  1,  1, -1,  1, -1, -1, -1, -1, -1, -1, -1, -1, -1, -1, -1,\n",
       "        1, -1, -1, -1, -1, -1,  1,  1, -1,  1,  1,  1,  1, -1,  1, -1, -1,\n",
       "       -1, -1, -1, -1, -1, -1, -1, -1, -1, -1, -1, -1, -1, -1, -1, -1, -1,\n",
       "       -1, -1,  1,  1,  1,  1,  1, -1,  1, -1,  1,  1, -1, -1, -1,  1, -1,\n",
       "       -1, -1, -1, -1,  1,  1, -1, -1, -1,  1, -1, -1, -1, -1, -1,  1, -1,\n",
       "       -1,  1,  1, -1, -1,  1, -1, -1, -1, -1, -1, -1,  1,  1,  1,  1, -1,\n",
       "        1,  1,  1,  1, -1,  1, -1, -1, -1, -1, -1, -1, -1, -1, -1, -1, -1,\n",
       "       -1,  1,  1,  1,  1,  1,  1,  1,  1,  1, -1, -1, -1, -1, -1, -1, -1,\n",
       "        1,  1, -1, -1, -1, -1, -1, -1, -1, -1, -1, -1, -1, -1, -1, -1, -1,\n",
       "       -1,  1, -1,  1,  1, -1,  1, -1, -1, -1, -1, -1, -1, -1, -1, -1, -1,\n",
       "       -1, -1,  1,  1,  1, -1,  1,  1,  1,  1,  1,  1,  1,  1,  1,  1,  1,\n",
       "        1,  1,  1, -1, -1,  1,  1,  1,  1,  1,  1,  1, -1, -1, -1,  1,  1,\n",
       "        1, -1,  1,  1,  1,  1,  1,  1,  1, -1,  1,  1, -1,  1, -1, -1, -1,\n",
       "       -1, -1, -1, -1,  1,  1, -1,  1, -1,  1,  1, -1, -1,  1, -1, -1, -1,\n",
       "       -1, -1, -1,  1, -1, -1, -1, -1,  1,  1, -1,  1, -1,  1,  1, -1, -1,\n",
       "       -1,  1,  1,  1,  1, -1, -1, -1,  1,  1,  1,  1,  1,  1,  1,  1,  1,\n",
       "       -1,  1,  1,  1,  1,  1,  1,  1,  1,  1,  1,  1,  1,  1,  1,  1,  1,\n",
       "        1,  1,  1,  1,  1,  1,  1,  1,  1,  1,  1,  1,  1,  1,  1,  1,  1,\n",
       "        1,  1,  1,  1,  1,  1,  1,  1,  1,  1,  1,  1,  1,  1,  1,  1,  1,\n",
       "        1,  1,  1,  1,  1,  1,  1,  1,  1,  1,  1,  1,  1,  1,  1,  1,  1,\n",
       "       -1,  1,  1,  1,  1,  1,  1,  1,  1,  1,  1,  1,  1,  1,  1,  1,  1,\n",
       "        1,  1,  1,  1,  1,  1,  1,  1,  1,  1,  1,  1,  1,  1,  1,  1,  1,\n",
       "        1,  1,  1,  1,  1,  1,  1,  1,  1,  1,  1,  1,  1,  1,  1,  1,  1,\n",
       "        1,  1,  1,  1,  1, -1])"
      ]
     },
     "execution_count": 21,
     "metadata": {},
     "output_type": "execute_result"
    }
   ],
   "source": [
    "polarity_judge2 = f3['Polarity Judge'].values.copy()\n",
    "polarity_judge2"
   ]
  },
  {
   "cell_type": "code",
   "execution_count": 22,
   "id": "70c0fdbf",
   "metadata": {},
   "outputs": [
    {
     "data": {
      "text/plain": [
       "array([-1,  1,  1,  1,  1, -1, -1, -1, -1, -1,  1,  1,  1,  1,  1,  1,  1,\n",
       "        1,  1,  1, -1,  1, -1,  1,  1,  1, -1, -1,  1,  1,  1,  1,  1,  1,\n",
       "       -1, -1, -1, -1,  1,  1,  1,  1, -1, -1, -1,  1,  1, -1, -1,  1,  1,\n",
       "       -1,  1,  1,  1, -1, -1,  1, -1, -1, -1, -1,  1, -1, -1,  1,  1,  1,\n",
       "        1,  1,  1, -1, -1,  1, -1,  1,  1,  1, -1, -1, -1, -1, -1, -1, -1,\n",
       "        1, -1, -1, -1, -1,  1, -1, -1,  1,  1,  1, -1,  1,  1,  1,  1, -1,\n",
       "       -1,  1, -1, -1, -1, -1, -1,  1, -1, -1,  1,  1,  1, -1, -1, -1, -1,\n",
       "        1, -1, -1,  1, -1, -1,  1, -1,  1, -1,  1,  1, -1,  1, -1, -1, -1,\n",
       "        1, -1, -1,  1,  1, -1, -1,  1,  1,  1, -1,  1,  1, -1,  1,  1,  1,\n",
       "       -1, -1, -1, -1,  1, -1, -1, -1, -1, -1,  1,  1, -1,  1, -1, -1,  1,\n",
       "        1, -1, -1, -1, -1,  1, -1, -1, -1, -1, -1, -1,  1, -1,  1,  1,  1,\n",
       "        1, -1,  1, -1, -1, -1, -1,  1,  1,  1, -1,  1,  1,  1,  1,  1,  1,\n",
       "        1, -1,  1,  1,  1,  1, -1, -1, -1, -1,  1, -1, -1,  1, -1, -1, -1,\n",
       "       -1, -1, -1, -1, -1,  1,  1,  1,  1,  1,  1, -1,  1, -1,  1,  1,  1,\n",
       "        1,  1, -1, -1,  1,  1,  1,  1,  1, -1,  1,  1, -1,  1, -1, -1,  1,\n",
       "        1,  1, -1,  1,  1,  1, -1,  1, -1, -1, -1, -1, -1, -1,  1, -1, -1,\n",
       "        1,  1,  1,  1,  1, -1, -1,  1,  1,  1,  1,  1, -1,  1,  1,  1,  1,\n",
       "        1,  1, -1,  1,  1, -1,  1,  1,  1, -1,  1,  1,  1,  1,  1,  1, -1,\n",
       "        1,  1, -1,  1, -1,  1, -1,  1,  1,  1,  1,  1,  1,  1,  1,  1, -1,\n",
       "        1, -1, -1, -1,  1, -1, -1,  1,  1, -1, -1, -1, -1,  1,  1,  1, -1,\n",
       "        1, -1, -1, -1, -1,  1, -1, -1, -1,  1,  1, -1,  1,  1,  1,  1, -1,\n",
       "        1,  1,  1,  1, -1,  1, -1, -1, -1,  1,  1, -1,  1, -1,  1, -1, -1,\n",
       "        1, -1, -1,  1,  1,  1,  1,  1,  1,  1,  1,  1,  1, -1,  1, -1,  1,\n",
       "       -1,  1,  1,  1,  1,  1,  1,  1,  1,  1, -1, -1,  1,  1,  1,  1,  1,\n",
       "        1,  1, -1,  1,  1,  1,  1,  1,  1, -1,  1, -1, -1, -1,  1,  1,  1,\n",
       "        1, -1, -1, -1,  1,  1, -1,  1,  1, -1,  1,  1,  1,  1,  1,  1, -1,\n",
       "       -1,  1,  1,  1, -1, -1,  1,  1,  1, -1,  1,  1,  1, -1, -1,  1,  1,\n",
       "        1, -1,  1,  1,  1,  1,  1,  1,  1, -1,  1, -1, -1, -1, -1,  1, -1,\n",
       "       -1, -1,  1,  1,  1,  1,  1,  1,  1, -1,  1,  1,  1,  1,  1,  1,  1,\n",
       "        1,  1,  1, -1, -1,  1,  1, -1, -1, -1,  1, -1, -1, -1,  1, -1, -1,\n",
       "       -1,  1, -1, -1,  1,  1,  1, -1, -1,  1,  1, -1, -1,  1, -1, -1,  1,\n",
       "        1,  1,  1,  1, -1, -1, -1, -1, -1,  1,  1,  1,  1, -1,  1, -1, -1,\n",
       "        1, -1,  1, -1, -1,  1, -1, -1, -1, -1, -1, -1, -1, -1, -1, -1, -1,\n",
       "        1, -1, -1, -1,  1, -1,  1, -1,  1,  1,  1,  1,  1, -1,  1, -1, -1,\n",
       "       -1, -1, -1,  1,  1,  1, -1, -1, -1, -1, -1, -1, -1, -1,  1,  1,  1,\n",
       "       -1, -1,  1,  1,  1,  1,  1, -1,  1, -1,  1, -1, -1,  1, -1,  1, -1,\n",
       "       -1,  1, -1, -1,  1,  1, -1, -1, -1,  1, -1, -1, -1,  1,  1,  1,  1,\n",
       "        1,  1,  1,  1, -1,  1,  1, -1, -1, -1, -1,  1,  1,  1,  1,  1, -1,\n",
       "        1,  1,  1,  1,  1,  1, -1, -1, -1, -1, -1, -1,  1, -1, -1,  1, -1,\n",
       "        1, -1,  1,  1,  1,  1,  1,  1,  1,  1, -1, -1, -1, -1, -1, -1, -1,\n",
       "        1,  1, -1, -1, -1, -1, -1, -1, -1, -1,  1, -1, -1, -1, -1, -1, -1,\n",
       "       -1,  1,  1,  1,  1, -1,  1,  1, -1, -1, -1, -1, -1, -1,  1,  1, -1,\n",
       "       -1, -1,  1,  1,  1, -1,  1,  1,  1,  1, -1,  1, -1, -1,  1, -1,  1,\n",
       "        1,  1,  1, -1,  1,  1,  1,  1,  1, -1,  1,  1,  1, -1,  1,  1,  1,\n",
       "       -1, -1,  1,  1,  1,  1,  1,  1,  1,  1,  1,  1, -1,  1, -1, -1,  1,\n",
       "       -1, -1, -1, -1,  1,  1, -1,  1, -1,  1, -1, -1,  1,  1, -1, -1, -1,\n",
       "       -1,  1, -1,  1, -1,  1, -1, -1,  1, -1, -1,  1, -1,  1,  1, -1, -1,\n",
       "       -1,  1,  1,  1,  1, -1, -1,  1,  1,  1, -1,  1,  1,  1,  1,  1,  1,\n",
       "       -1,  1,  1,  1,  1,  1,  1,  1,  1,  1,  1,  1,  1,  1,  1,  1,  1,\n",
       "        1,  1,  1,  1,  1,  1,  1,  1,  1,  1,  1,  1,  1,  1,  1,  1,  1,\n",
       "        1,  1,  1,  1,  1,  1,  1,  1,  1,  1,  1,  1,  1,  1,  1,  1,  1,\n",
       "        1,  1,  1,  1,  1,  1,  1,  1,  1,  1,  1,  1,  1,  1,  1,  1, -1,\n",
       "        1,  1,  1,  1,  1,  1, -1,  1,  1,  1,  1,  1,  1,  1,  1,  1,  1,\n",
       "        1,  1,  1,  1,  1,  1,  1,  1,  1, -1,  1,  1, -1, -1, -1,  1,  1,\n",
       "        1,  1,  1,  1,  1,  1,  1,  1, -1,  1,  1, -1,  1,  1,  1,  1,  1,\n",
       "        1,  1,  1,  1,  1, -1])"
      ]
     },
     "execution_count": 22,
     "metadata": {},
     "output_type": "execute_result"
    }
   ],
   "source": [
    "polarity_vader = f3['Polarity Vader'].values\n",
    "polarity_vader"
   ]
  },
  {
   "cell_type": "code",
   "execution_count": 23,
   "id": "b3c76256",
   "metadata": {},
   "outputs": [
    {
     "data": {
      "text/plain": [
       "array([[423,  46],\n",
       "       [137, 335]])"
      ]
     },
     "execution_count": 23,
     "metadata": {},
     "output_type": "execute_result"
    }
   ],
   "source": [
    "def get_confusion_matrix(reais, preditos, labels):\n",
    "#     \"\"\"\n",
    "#     Uma função que retorna a matriz de confusão para uma classificação binária\n",
    "    \n",
    "#     Args:\n",
    "#         reais (list): lista de valores reais\n",
    "#         preditos (list): lista de valores preditos pelo modelos\n",
    "#         labels (list): lista de labels a serem avaliados.\n",
    "#             É importante que ela esteja presente, pois usaremos ela para entender\n",
    "#             quem é a classe positiva e quem é a classe negativa\n",
    "    \n",
    "#     Returns:\n",
    "#         Um numpy.array, no formato:\n",
    "#             numpy.array([\n",
    "#                 [ tp, fp ],\n",
    "#                 [ fn, tn ]\n",
    "#             ])\n",
    "#     \"\"\"\n",
    "    # não implementado\n",
    "    if len(labels) > 2:\n",
    "        return None\n",
    "\n",
    "    if len(reais) != len(preditos):\n",
    "        return None\n",
    "    \n",
    "    # considerando a primeira classe como a positiva, e a segunda a negativa\n",
    "    true_class = labels[0]\n",
    "    negative_class = labels[1]\n",
    "\n",
    "    # valores preditos corretamente\n",
    "    tp = 0\n",
    "    tn = 0\n",
    "    \n",
    "    # valores preditos incorretamente\n",
    "    fp = 0\n",
    "    fn = 0\n",
    "    \n",
    "    for (indice, v_real) in enumerate(reais):\n",
    "        v_predito = preditos[indice]\n",
    "\n",
    "        # se trata de um valor real da classe positiva\n",
    "        if v_real == true_class:\n",
    "            tp += 1 if v_predito == v_real else 0\n",
    "            fp += 1 if v_predito != v_real else 0\n",
    "        else:\n",
    "            tn += 1 if v_predito == v_real else 0\n",
    "            fn += 1 if v_predito != v_real else 0\n",
    "    \n",
    "    return np.array([\n",
    "        # valores da classe positiva\n",
    "        [ tp, fp ],\n",
    "        # valores da classe negativa\n",
    "        [ fn, tn ]\n",
    "    ])\n",
    "\n",
    "get_confusion_matrix(reais=polarity_judge, preditos=polarity_vader, labels=[1,0])\n",
    "# array([[3, 1], [2, 4]])"
   ]
  },
  {
   "cell_type": "code",
   "execution_count": 24,
   "id": "d512caa4",
   "metadata": {},
   "outputs": [
    {
     "name": "stdout",
     "output_type": "stream",
     "text": [
      "Liwc     -1    1\n",
      "Actual          \n",
      "-1      335  137\n",
      " 1       46  423\n"
     ]
    }
   ],
   "source": [
    "confusion_matrix = pd.crosstab(f3['Polarity Judge'], f3['Polarity Vader'], rownames=['Actual'], colnames=['Liwc'])\n",
    "print (confusion_matrix)\n"
   ]
  },
  {
   "cell_type": "code",
   "execution_count": 25,
   "id": "c695e3dc",
   "metadata": {},
   "outputs": [],
   "source": [
    "import seaborn as sn"
   ]
  },
  {
   "cell_type": "code",
   "execution_count": 26,
   "id": "57d4e6ca",
   "metadata": {},
   "outputs": [],
   "source": [
    "import matplotlib.pyplot as plt"
   ]
  },
  {
   "cell_type": "code",
   "execution_count": 27,
   "id": "ff3d8f93",
   "metadata": {},
   "outputs": [
    {
     "name": "stdout",
     "output_type": "stream",
     "text": [
      "Vader    -1    1\n",
      "Actual          \n",
      "-1      335  137\n",
      " 1       46  423\n"
     ]
    },
    {
     "data": {
      "image/png": "[encoded data removed]",
      "text/plain": [
       "<Figure size 432x288 with 2 Axes>"
      ]
     },
     "metadata": {
      "needs_background": "light"
     },
     "output_type": "display_data"
    }
   ],
   "source": [
    "confusion_matrix = pd.crosstab(f3['Polarity Judge'], f3['Polarity Vader'], rownames=['Actual'], colnames=['Vader'])\n",
    "print (confusion_matrix)\n",
    "sn.heatmap(confusion_matrix, annot=True, fmt=\"d\")\n",
    "plt.show()"
   ]
  },
  {
   "cell_type": "code",
   "execution_count": 28,
   "id": "fe3bed42",
   "metadata": {},
   "outputs": [
    {
     "name": "stdout",
     "output_type": "stream",
     "text": [
      "Vader    -1    1  All\n",
      "Actual               \n",
      "-1      335  137  472\n",
      "1        46  423  469\n",
      "All     381  560  941\n"
     ]
    },
    {
     "data": {
      "image/png": "[encoded data removed]",
      "text/plain": [
       "<Figure size 432x288 with 2 Axes>"
      ]
     },
     "metadata": {
      "needs_background": "light"
     },
     "output_type": "display_data"
    }
   ],
   "source": [
    "confusion_matrix = pd.crosstab(f3['Polarity Judge'], f3['Polarity Vader'], rownames=['Actual'], colnames=['Vader'], margins = True)\n",
    "print (confusion_matrix)\n",
    "confusion_matrix = confusion_matrix.drop('All', axis=0)\n",
    "sn.heatmap(confusion_matrix, annot=True, fmt=\"d\")\n",
    "plt.show()"
   ]
  },
  {
   "cell_type": "code",
   "execution_count": 29,
   "id": "19a51b98",
   "metadata": {},
   "outputs": [
    {
     "data": {
      "text/plain": [
       "<AxesSubplot:xlabel='Vader', ylabel='Actual'>"
      ]
     },
     "execution_count": 29,
     "metadata": {},
     "output_type": "execute_result"
    },
    {
     "data": {
      "image/png": "[encoded data removed]",
      "text/plain": [
       "<Figure size 432x288 with 2 Axes>"
      ]
     },
     "metadata": {
      "needs_background": "light"
     },
     "output_type": "display_data"
    }
   ],
   "source": [
    "sn.heatmap(confusion_matrix/np.sum(confusion_matrix.drop(\"All\", axis=1)), annot=True, \n",
    "            fmt='.2%', cmap='Blues')"
   ]
  },
  {
   "cell_type": "code",
   "execution_count": 30,
   "id": "5b9ace4d",
   "metadata": {},
   "outputs": [],
   "source": [
    "from sklearn.metrics import classification_report"
   ]
  },
  {
   "cell_type": "code",
   "execution_count": 31,
   "id": "6fa3cf46",
   "metadata": {},
   "outputs": [
    {
     "name": "stdout",
     "output_type": "stream",
     "text": [
      "              precision    recall  f1-score   support\n",
      "\n",
      "    class -1       0.81      0.61      0.70       531\n",
      "     class 1       0.68      0.85      0.75       505\n",
      "\n",
      "    accuracy                           0.73      1036\n",
      "   macro avg       0.75      0.73      0.73      1036\n",
      "weighted avg       0.75      0.73      0.73      1036\n",
      "\n"
     ]
    }
   ],
   "source": [
    "y_true = [-1,  1,  1,  1,  1,  1, -1, -1, -1, -1, -1, -1, -1,  1,  1,  1, -1,\n",
    "        1, -1,  1,  1,  1,  1, -1, -1, -1, -1,  1, -1, -1, -1, -1, -1,  1,\n",
    "        1,  1,  1,  1, -1, -1, -1, -1, -1, -1, -1, -1, -1, -1, -1, -1, -1,\n",
    "       -1, -1, -1, -1,  1, -1, -1, -1, -1,  1,  1,  1,  1, -1,  1, -1, -1,\n",
    "        1, -1, -1, -1, -1, -1,  1, -1,  1,  1,  1,  1,  1,  1,  1,  1,  1,\n",
    "       -1, -1, -1, -1, -1, -1, -1,  1, -1, -1, -1, -1, -1, -1,  1, -1, -1,\n",
    "       -1, -1,  1,  1, -1, -1, -1, -1, -1, -1, -1,  1,  1,  1, -1, -1, -1,\n",
    "       -1, -1, -1, -1, -1, -1, -1, -1, -1, -1, -1, -1, -1,  1, -1, -1, -1,\n",
    "       -1, -1, -1, -1, -1, -1, -1, -1, -1,  1, -1, -1,  1,  1,  1,  1, -1,\n",
    "        1, -1, -1, -1,  1, -1, -1, -1, -1, -1, -1,  1,  1,  1, -1,  1, -1,\n",
    "       -1, -1,  1,  1, -1, -1, -1, -1, -1,  1, -1, -1, -1, -1, -1, -1, -1,\n",
    "       -1, -1, -1, -1,  1, -1, -1, -1, -1, -1, -1, -1, -1, -1, -1,  1, -1,\n",
    "       -1, -1, -1, -1, -1, -1, -1,  1, -1, -1, -1,  1,  1, -1, -1, -1, -1,\n",
    "       -1, -1, -1, -1, -1, -1, -1,  1,  1,  1,  1,  1,  1,  1,  1,  1,  1,\n",
    "        1,  1, -1, -1, -1, -1,  1, -1, -1, -1, -1, -1, -1, -1, -1, -1, -1,\n",
    "       -1, -1, -1, -1,  1,  1, -1, -1, -1,  1,  1,  1,  1,  1,  1, -1, -1,\n",
    "       -1, -1,  1,  1,  1,  1,  1,  1,  1, -1,  1, -1,  1,  1, -1, -1,  1,\n",
    "        1,  1,  1,  1,  1,  1,  1,  1, -1, -1, -1, -1, -1, -1, -1, -1, -1,\n",
    "        1, -1,  1,  1,  1,  1,  1,  1, -1, -1, -1, -1, -1, -1,  1, -1,  1,\n",
    "       -1, -1,  1,  1,  1, -1,  1,  1, -1,  1,  1, -1, -1,  1,  1,  1, -1,\n",
    "       -1, -1, -1,  1,  1,  1,  1,  1,  1,  1,  1,  1,  1,  1,  1,  1,  1,\n",
    "        1,  1,  1,  1, -1,  1, -1, -1, -1, -1, -1, -1, -1, -1, -1,  1, -1,\n",
    "       -1, -1, -1, -1, -1,  1,  1,  1, -1, -1, -1, -1, -1, -1,  1, -1, -1,\n",
    "       -1, -1, -1, -1,  1, -1, -1,  1,  1, -1,  1,  1,  1,  1,  1,  1,  1,\n",
    "        1, -1, -1, -1,  1, -1, -1, -1, -1, -1, -1, -1, -1, -1, -1, -1, -1,\n",
    "       -1, -1,  1,  1,  1,  1,  1,  1,  1, -1,  1,  1, -1, -1, -1,  1,  1,\n",
    "        1,  1,  1,  1,  1,  1, -1, -1, -1,  1,  1,  1,  1,  1, -1,  1,  1,\n",
    "       -1,  1, -1,  1,  1,  1,  1, -1, -1, -1, -1, -1, -1, -1,  1, -1, -1,\n",
    "       -1, -1, -1, -1, -1, -1, -1, -1,  1,  1,  1, -1,  1,  1, -1, -1,  1,\n",
    "        1,  1,  1, -1,  1,  1,  1,  1,  1,  1,  1,  1,  1,  1,  1,  1,  1,\n",
    "        1,  1,  1,  1,  1,  1,  1,  1,  1, -1, -1, -1, -1, -1,  1, -1,  1,\n",
    "       -1, -1,  1,  1,  1, -1,  1,  1,  1,  1,  1,  1,  1, -1, -1, -1, -1,\n",
    "       -1,  1,  1,  1, -1,  1,  1, -1, -1, -1,  1, -1, -1, -1, -1,  1, -1,\n",
    "       -1, -1, -1, -1, -1,  1,  1, -1, -1, -1,  1,  1, -1, -1,  1, -1, -1,\n",
    "        1, -1, -1,  1, -1,  1,  1, -1, -1, -1, -1, -1,  1,  1,  1,  1, -1,\n",
    "       -1, -1, -1,  1, -1, -1,  1,  1, -1,  1, -1, -1, -1, -1, -1, -1, -1,\n",
    "       -1, -1, -1, -1, -1, -1,  1, -1, -1, -1, -1, -1,  1,  1, -1, -1,  1,\n",
    "        1,  1,  1, -1,  1, -1, -1, -1, -1, -1, -1, -1, -1, -1, -1, -1, -1,\n",
    "       -1, -1, -1, -1, -1, -1, -1, -1,  1, -1, -1, -1, -1, -1,  1,  1,  1,\n",
    "        1,  1,  1, -1,  1, -1,  1,  1, -1, -1, -1,  1, -1, -1, -1, -1, -1,\n",
    "        1,  1, -1, -1, -1,  1, -1, -1, -1, -1, -1,  1, -1, -1,  1,  1, -1,\n",
    "       -1, -1, -1, -1,  1, -1, -1, -1, -1, -1, -1, -1,  1,  1,  1,  1,  1,\n",
    "       -1,  1,  1,  1,  1, -1,  1, -1, -1, -1, -1, -1, -1, -1, -1, -1, -1,\n",
    "       -1, -1, -1, -1, -1,  1,  1,  1,  1,  1,  1,  1,  1,  1,  1, -1, -1,\n",
    "       -1, -1, -1, -1, -1,  1,  1, -1, -1, -1, -1, -1, -1, -1, -1, -1, -1,\n",
    "       -1, -1, -1, -1, -1, -1,  1, -1,  1,  1, -1,  1, -1, -1, -1, -1, -1,\n",
    "       -1, -1, -1, -1, -1, -1, -1, -1,  1,  1,  1, -1,  1,  1,  1,  1,  1,\n",
    "        1,  1,  1,  1,  1,  1,  1,  1,  1, -1, -1,  1,  1,  1,  1,  1,  1,\n",
    "        1, -1, -1, -1, -1,  1,  1,  1, -1,  1, -1,  1,  1,  1,  1,  1,  1,\n",
    "       -1, -1,  1,  1, -1,  1, -1, -1, -1, -1, -1, -1, -1,  1,  1, -1,  1,\n",
    "       -1,  1,  1, -1, -1, -1,  1,  1, -1, -1, -1, -1, -1, -1, -1, -1,  1,\n",
    "       -1, -1, -1, -1,  1,  1,  1, -1,  1, -1,  1,  1,  1, -1, -1, -1,  1,\n",
    "        1,  1,  1,  1, -1, -1, -1,  1,  1,  1,  1,  1,  1,  1,  1,  1, -1,\n",
    "        1,  1,  1,  1,  1,  1,  1,  1,  1,  1,  1,  1,  1,  1,  1,  1,  1,\n",
    "        1,  1,  1,  1,  1,  1,  1,  1,  1,  1,  1,  1,  1,  1,  1,  1, -1,\n",
    "        1,  1,  1,  1,  1,  1,  1,  1,  1,  1,  1,  1,  1,  1,  1,  1,  1,\n",
    "        1,  1,  1,  1,  1,  1,  1,  1,  1,  1,  1,  1,  1,  1,  1,  1,  1,\n",
    "        1,  1,  1,  1, -1,  1,  1,  1,  1,  1,  1,  1,  1,  1,  1,  1,  1,\n",
    "        1,  1,  1,  1,  1,  1,  1,  1,  1,  1,  1,  1,  1,  1,  1,  1,  1,\n",
    "        1,  1,  1,  1,  1,  1,  1,  1,  1,  1,  1,  1,  1,  1,  1,  1,  1,\n",
    "        1,  1,  1,  1,  1,  1,  1,  1,  1,  1,  1,  1,  1,  1,  1, -1]\n",
    "y_pred = [-1,  1,  1,  1,  1,  1,  1, -1,  1,  1, -1, -1,  1,  1,  1,  1, -1,\n",
    "        1, -1, -1,  1,  1,  1,  1, -1, -1,  1, -1, -1,  1,  1, -1, -1,  1,\n",
    "        1,  1,  1,  1, -1, -1,  1, -1, -1,  1, -1,  1,  1,  1, -1,  1,  1,\n",
    "       -1,  1, -1, -1,  1, -1,  1,  1, -1,  1, -1,  1,  1, -1,  1, -1,  1,\n",
    "       -1, -1, -1, -1,  1, -1,  1,  1, -1, -1,  1,  1,  1,  1,  1,  1,  1,\n",
    "       -1, -1,  1, -1, -1,  1, -1,  1, -1, -1, -1, -1, -1,  1,  1, -1,  1,\n",
    "        1,  1,  1,  1,  1, -1,  1, -1,  1,  1, -1,  1,  1, -1, -1,  1,  1,\n",
    "        1, -1, -1, -1, -1,  1,  1, -1, -1,  1,  1,  1, -1, -1, -1,  1, -1,\n",
    "        1, -1, -1, -1, -1, -1, -1, -1, -1,  1,  1, -1,  1, -1,  1,  1, -1,\n",
    "        1,  1, -1, -1,  1, -1, -1,  1,  1,  1,  1,  1,  1,  1,  1,  1, -1,\n",
    "       -1,  1,  1, -1,  1, -1, -1, -1, -1,  1, -1, -1, -1,  1, -1, -1,  1,\n",
    "        1, -1, -1,  1,  1,  1, -1, -1, -1, -1,  1, -1, -1, -1, -1,  1, -1,\n",
    "        1, -1,  1,  1,  1, -1,  1,  1, -1,  1, -1, -1,  1,  1, -1, -1, -1,\n",
    "        1, -1, -1, -1,  1, -1, -1,  1,  1, -1,  1, -1, -1,  1,  1,  1,  1,\n",
    "        1,  1, -1, -1,  1,  1,  1, -1, -1,  1, -1, -1,  1,  1, -1, -1,  1,\n",
    "       -1, -1, -1,  1,  1,  1, -1,  1,  1,  1,  1,  1,  1,  1,  1, -1, -1,\n",
    "       -1,  1,  1,  1,  1,  1,  1, -1,  1, -1,  1,  1,  1,  1, -1, -1,  1,\n",
    "        1,  1,  1,  1, -1,  1,  1,  1, -1, -1,  1,  1,  1, -1, -1, -1, -1,\n",
    "       -1,  1,  1, -1, -1,  1, -1,  1, -1, -1, -1,  1,  1,  1, -1,  1,  1,\n",
    "       -1,  1,  1,  1, -1,  1,  1,  1, -1,  1,  1,  1,  1,  1,  1,  1,  1,\n",
    "        1, -1,  1,  1,  1, -1,  1, -1, -1,  1, -1, -1,  1,  1,  1,  1,  1,\n",
    "        1,  1,  1,  1, -1,  1, -1,  1, -1, -1, -1,  1, -1, -1,  1,  1,  1,\n",
    "        1, -1, -1,  1,  1,  1,  1, -1, -1,  1, -1, -1, -1, -1,  1, -1, -1,\n",
    "       -1,  1,  1,  1, -1,  1, -1,  1,  1,  1,  1,  1,  1,  1,  1, -1, -1,\n",
    "       -1, -1, -1,  1,  1,  1,  1,  1, -1, -1, -1, -1, -1, -1, -1,  1,  1,\n",
    "       -1,  1,  1, -1, -1,  1,  1,  1,  1, -1,  1,  1, -1, -1,  1,  1,  1,\n",
    "        1,  1,  1,  1, -1,  1, -1, -1, -1,  1,  1,  1,  1,  1, -1,  1,  1,\n",
    "        1, -1,  1,  1,  1,  1, -1, -1,  1, -1,  1, -1,  1,  1,  1, -1, -1,\n",
    "        1,  1,  1,  1, -1,  1, -1, -1,  1,  1,  1, -1,  1,  1, -1, -1,  1,\n",
    "        1,  1, -1,  1,  1,  1,  1, -1,  1,  1,  1,  1, -1,  1,  1,  1,  1,\n",
    "        1,  1,  1,  1,  1,  1,  1, -1,  1,  1, -1,  1, -1,  1, -1, -1,  1,\n",
    "       -1, -1,  1, -1,  1,  1,  1,  1,  1,  1,  1,  1,  1, -1,  1, -1,  1,\n",
    "       -1,  1,  1, -1,  1,  1,  1, -1, -1, -1,  1, -1, -1, -1, -1, -1,  1,\n",
    "        1, -1, -1, -1, -1,  1,  1, -1, -1,  1,  1,  1, -1,  1,  1,  1,  1,\n",
    "        1,  1,  1,  1, -1,  1,  1, -1, -1, -1, -1, -1,  1,  1,  1,  1,  1,\n",
    "       -1, -1, -1,  1,  1,  1,  1, -1,  1,  1, -1, -1, -1, -1,  1, -1, -1,\n",
    "       -1, -1, -1, -1, -1, -1,  1,  1,  1, -1,  1,  1,  1, -1, -1,  1, -1,\n",
    "        1,  1,  1,  1,  1, -1, -1, -1, -1,  1, -1,  1,  1,  1,  1,  1,  1,\n",
    "       -1, -1,  1, -1, -1,  1, -1, -1,  1,  1,  1,  1,  1, -1,  1,  1,  1,\n",
    "        1,  1,  1,  1,  1,  1,  1,  1, -1,  1, -1,  1, -1, -1,  1,  1, -1,\n",
    "        1,  1, -1, -1, -1,  1, -1, -1,  1, -1,  1,  1, -1,  1,  1,  1, -1,\n",
    "       -1, -1,  1, -1,  1,  1, -1, -1, -1, -1, -1, -1,  1,  1,  1,  1,  1,\n",
    "       -1,  1,  1,  1,  1,  1,  1, -1, -1, -1, -1, -1,  1,  1, -1,  1, -1,\n",
    "        1,  1, -1,  1, -1, -1,  1,  1,  1,  1,  1,  1,  1,  1,  1, -1, -1,\n",
    "       -1, -1, -1, -1, -1,  1,  1, -1, -1, -1, -1, -1, -1, -1, -1,  1, -1,\n",
    "        1, -1, -1, -1, -1, -1,  1,  1, -1,  1,  1,  1,  1, -1, -1,  1,  1,\n",
    "       -1, -1, -1,  1,  1, -1, -1, -1,  1,  1, -1,  1,  1,  1,  1,  1,  1,\n",
    "       -1, -1,  1,  1,  1,  1,  1,  1,  1, -1,  1,  1,  1, -1,  1, -1, -1,\n",
    "        1, -1, -1, -1, -1,  1, -1,  1,  1,  1, -1,  1,  1,  1,  1,  1,  1,\n",
    "        1,  1, -1,  1, -1,  1,  1, -1, -1, -1, -1,  1, -1,  1, -1, -1,  1,\n",
    "       -1,  1,  1, -1, -1, -1, -1,  1,  1, -1,  1,  1, -1,  1, -1, -1,  1,\n",
    "       -1,  1,  1, -1,  1, -1, -1, -1,  1, -1,  1,  1,  1, -1, -1, -1,  1,\n",
    "        1, -1,  1,  1,  1,  1,  1,  1,  1, -1,  1, -1,  1,  1,  1,  1, -1,\n",
    "        1,  1,  1,  1,  1,  1, -1,  1,  1,  1,  1,  1,  1,  1,  1,  1,  1,\n",
    "        1,  1,  1,  1,  1,  1,  1,  1,  1,  1,  1,  1,  1,  1,  1,  1,  1,\n",
    "        1,  1,  1,  1,  1,  1,  1,  1,  1,  1,  1,  1,  1,  1,  1,  1,  1,\n",
    "        1,  1,  1,  1,  1,  1,  1,  1,  1,  1,  1,  1,  1,  1,  1,  1,  1,\n",
    "        1,  1,  1,  1, -1,  1, -1,  1,  1,  1,  1,  1,  1,  1,  1,  1,  1,\n",
    "       -1,  1,  1,  1,  1,  1,  1,  1,  1,  1,  1,  1,  1,  1,  1,  1,  1,\n",
    "       -1,  1, -1, -1,  1,  1, -1,  1,  1,  1,  1,  1,  1,  1, -1,  1,  1,\n",
    "        1, -1,  1,  1,  1,  1,  1,  1,  1,  1,  1,  1,  1,  1,  1, -1]\n",
    "target_names = ['class -1', 'class 1']\n",
    "print(classification_report(y_true, y_pred, target_names=target_names))"
   ]
  },
  {
   "cell_type": "code",
   "execution_count": 32,
   "id": "9bc5c239",
   "metadata": {},
   "outputs": [
    {
     "name": "stdout",
     "output_type": "stream",
     "text": [
      "              precision    recall  f1-score   support\n",
      "\n",
      "    class -1       0.88      0.71      0.79       472\n",
      "     class 1       0.76      0.90      0.82       469\n",
      "\n",
      "    accuracy                           0.81       941\n",
      "   macro avg       0.82      0.81      0.80       941\n",
      "weighted avg       0.82      0.81      0.80       941\n",
      "\n"
     ]
    }
   ],
   "source": [
    "y_true = polarity_judge2.copy()\n",
    "y_pred = polarity_vader.copy()\n",
    "target_names = ['class -1', 'class 1']\n",
    "print(classification_report(y_true, y_pred, target_names=target_names))"
   ]
  },
  {
   "cell_type": "code",
   "execution_count": 33,
   "id": "140d1e50",
   "metadata": {},
   "outputs": [],
   "source": [
    "from sklearn.metrics import confusion_matrix\n",
    "\n"
   ]
  },
  {
   "cell_type": "code",
   "execution_count": 34,
   "id": "cdbd816b",
   "metadata": {},
   "outputs": [
    {
     "name": "stdout",
     "output_type": "stream",
     "text": [
      "[[335 137]\n",
      " [ 46 423]]\n"
     ]
    }
   ],
   "source": [
    "#Get the confusion matrix\n",
    "cf_matrix = confusion_matrix(y_true, y_pred)\n",
    "print(cf_matrix)"
   ]
  },
  {
   "cell_type": "code",
   "execution_count": 35,
   "id": "ce2e021b",
   "metadata": {},
   "outputs": [],
   "source": [
    "import seaborn as sns\n",
    "import numpy as np"
   ]
  },
  {
   "cell_type": "code",
   "execution_count": 36,
   "id": "07d27267",
   "metadata": {},
   "outputs": [
    {
     "data": {
      "text/plain": [
       "<AxesSubplot:>"
      ]
     },
     "execution_count": 36,
     "metadata": {},
     "output_type": "execute_result"
    },
    {
     "data": {
      "image/png": "[encoded data removed]",
      "text/plain": [
       "<Figure size 432x288 with 2 Axes>"
      ]
     },
     "metadata": {
      "needs_background": "light"
     },
     "output_type": "display_data"
    }
   ],
   "source": [
    "sns.heatmap(cf_matrix, annot=True, cmap='Greens')"
   ]
  },
  {
   "cell_type": "code",
   "execution_count": 37,
   "id": "e371dee2",
   "metadata": {},
   "outputs": [
    {
     "data": {
      "text/plain": [
       "<AxesSubplot:>"
      ]
     },
     "execution_count": 37,
     "metadata": {},
     "output_type": "execute_result"
    },
    {
     "data": {
      "image/png": "[encoded data removed]",
      "text/plain": [
       "<Figure size 432x288 with 2 Axes>"
      ]
     },
     "metadata": {
      "needs_background": "light"
     },
     "output_type": "display_data"
    }
   ],
   "source": [
    "group_counts = ['{0:0.0f}'.format(value) for value in\n",
    "                cf_matrix.flatten()]\n",
    "group_percentages = ['{0:.2%}'.format(value) for value in\n",
    "                     cf_matrix.flatten()/np.sum(cf_matrix)]\n",
    "labels = [f'{v1}\\n{v2}' for v1, v2 in\n",
    "          zip(group_counts,group_percentages)]\n",
    "labels = np.asarray(labels).reshape(2,2)\n",
    "sns.heatmap(cf_matrix, annot=labels, fmt='', cmap='Greens')"
   ]
  },
  {
   "cell_type": "code",
   "execution_count": 38,
   "id": "67a118b1",
   "metadata": {},
   "outputs": [
    {
     "data": {
      "text/plain": [
       "array([[335, 137],\n",
       "       [ 46, 423]])"
      ]
     },
     "execution_count": 38,
     "metadata": {},
     "output_type": "execute_result"
    }
   ],
   "source": [
    "confusion_matrix(y_true, y_pred)"
   ]
  },
  {
   "cell_type": "code",
   "execution_count": 39,
   "id": "4125cfa9",
   "metadata": {},
   "outputs": [],
   "source": [
    "from matplotlib.ticker import PercentFormatter"
   ]
  },
  {
   "cell_type": "code",
   "execution_count": 40,
   "id": "99fd8b50",
   "metadata": {},
   "outputs": [],
   "source": [
    "from matplotlib.ticker import PercentFormatter\n",
    "import matplotlib.pyplot as plt\n",
    "import seaborn as sns\n",
    "from sklearn.metrics import confusion_matrix\n",
    "\n"
   ]
  },
  {
   "cell_type": "code",
   "execution_count": 41,
   "id": "8d3e6f7b",
   "metadata": {},
   "outputs": [
    {
     "name": "stdout",
     "output_type": "stream",
     "text": [
      "Keyring is skipped due to an exception: 'str' object has no attribute 'name'\n",
      "Requirement already satisfied: pretty-confusion-matrix in /Users/ericacarneiro/opt/anaconda3/lib/python3.9/site-packages (0.1.1)\n",
      "Requirement already satisfied: isort<6.0.0,>=5.8.0 in /Users/ericacarneiro/opt/anaconda3/lib/python3.9/site-packages (from pretty-confusion-matrix) (5.9.3)\n",
      "Requirement already satisfied: pre-commit<3.0.0,>=2.12.1 in /Users/ericacarneiro/opt/anaconda3/lib/python3.9/site-packages (from pretty-confusion-matrix) (2.20.0)\n",
      "Requirement already satisfied: seaborn<0.12.0,>=0.11.2 in /Users/ericacarneiro/opt/anaconda3/lib/python3.9/site-packages (from pretty-confusion-matrix) (0.11.2)\n",
      "Requirement already satisfied: numpy<2.0.0,>=1.21.4 in /Users/ericacarneiro/opt/anaconda3/lib/python3.9/site-packages (from pretty-confusion-matrix) (1.22.4)\n",
      "Requirement already satisfied: sklearn<0.1,>=0.0 in /Users/ericacarneiro/opt/anaconda3/lib/python3.9/site-packages (from pretty-confusion-matrix) (0.0)\n",
      "Requirement already satisfied: pandas<2.0.0,>=1.3.4 in /Users/ericacarneiro/opt/anaconda3/lib/python3.9/site-packages (from pretty-confusion-matrix) (1.3.4)\n",
      "Requirement already satisfied: black<22.0,>=21.5b0 in /Users/ericacarneiro/opt/anaconda3/lib/python3.9/site-packages (from pretty-confusion-matrix) (21.12b0)\n",
      "Requirement already satisfied: matplotlib<4.0.0,>=3.5.0 in /Users/ericacarneiro/opt/anaconda3/lib/python3.9/site-packages (from pretty-confusion-matrix) (3.5.2)\n",
      "Requirement already satisfied: flake8<4.0.0,>=3.9.2 in /Users/ericacarneiro/opt/anaconda3/lib/python3.9/site-packages (from pretty-confusion-matrix) (3.9.2)\n",
      "Requirement already satisfied: click>=7.1.2 in /Users/ericacarneiro/opt/anaconda3/lib/python3.9/site-packages (from black<22.0,>=21.5b0->pretty-confusion-matrix) (8.0.3)\n",
      "Requirement already satisfied: pathspec<1,>=0.9.0 in /Users/ericacarneiro/opt/anaconda3/lib/python3.9/site-packages (from black<22.0,>=21.5b0->pretty-confusion-matrix) (0.9.0)\n",
      "Requirement already satisfied: tomli<2.0.0,>=0.2.6 in /Users/ericacarneiro/opt/anaconda3/lib/python3.9/site-packages (from black<22.0,>=21.5b0->pretty-confusion-matrix) (1.2.3)\n",
      "Requirement already satisfied: mypy-extensions>=0.4.3 in /Users/ericacarneiro/opt/anaconda3/lib/python3.9/site-packages (from black<22.0,>=21.5b0->pretty-confusion-matrix) (0.4.3)\n",
      "Requirement already satisfied: platformdirs>=2 in /Users/ericacarneiro/opt/anaconda3/lib/python3.9/site-packages (from black<22.0,>=21.5b0->pretty-confusion-matrix) (2.5.2)\n",
      "Requirement already satisfied: typing-extensions>=3.10.0.0 in /Users/ericacarneiro/opt/anaconda3/lib/python3.9/site-packages (from black<22.0,>=21.5b0->pretty-confusion-matrix) (3.10.0.2)\n",
      "Requirement already satisfied: pycodestyle<2.8.0,>=2.7.0 in /Users/ericacarneiro/opt/anaconda3/lib/python3.9/site-packages (from flake8<4.0.0,>=3.9.2->pretty-confusion-matrix) (2.7.0)\n",
      "Requirement already satisfied: pyflakes<2.4.0,>=2.3.0 in /Users/ericacarneiro/opt/anaconda3/lib/python3.9/site-packages (from flake8<4.0.0,>=3.9.2->pretty-confusion-matrix) (2.3.1)\n",
      "Requirement already satisfied: mccabe<0.7.0,>=0.6.0 in /Users/ericacarneiro/opt/anaconda3/lib/python3.9/site-packages (from flake8<4.0.0,>=3.9.2->pretty-confusion-matrix) (0.6.1)\n",
      "Requirement already satisfied: cycler>=0.10 in /Users/ericacarneiro/opt/anaconda3/lib/python3.9/site-packages (from matplotlib<4.0.0,>=3.5.0->pretty-confusion-matrix) (0.10.0)\n",
      "Requirement already satisfied: packaging>=20.0 in /Users/ericacarneiro/opt/anaconda3/lib/python3.9/site-packages (from matplotlib<4.0.0,>=3.5.0->pretty-confusion-matrix) (23.0)\n",
      "Requirement already satisfied: fonttools>=4.22.0 in /Users/ericacarneiro/opt/anaconda3/lib/python3.9/site-packages (from matplotlib<4.0.0,>=3.5.0->pretty-confusion-matrix) (4.25.0)\n",
      "Requirement already satisfied: pyparsing>=2.2.1 in /Users/ericacarneiro/opt/anaconda3/lib/python3.9/site-packages (from matplotlib<4.0.0,>=3.5.0->pretty-confusion-matrix) (2.4.2)\n",
      "Requirement already satisfied: pillow>=6.2.0 in /Users/ericacarneiro/opt/anaconda3/lib/python3.9/site-packages (from matplotlib<4.0.0,>=3.5.0->pretty-confusion-matrix) (8.4.0)\n",
      "Requirement already satisfied: python-dateutil>=2.7 in /Users/ericacarneiro/opt/anaconda3/lib/python3.9/site-packages (from matplotlib<4.0.0,>=3.5.0->pretty-confusion-matrix) (2.8.2)\n",
      "Requirement already satisfied: kiwisolver>=1.0.1 in /Users/ericacarneiro/opt/anaconda3/lib/python3.9/site-packages (from matplotlib<4.0.0,>=3.5.0->pretty-confusion-matrix) (1.3.1)\n",
      "Requirement already satisfied: six in /Users/ericacarneiro/opt/anaconda3/lib/python3.9/site-packages (from cycler>=0.10->matplotlib<4.0.0,>=3.5.0->pretty-confusion-matrix) (1.12.0)\n",
      "Requirement already satisfied: pytz>=2017.3 in /Users/ericacarneiro/opt/anaconda3/lib/python3.9/site-packages (from pandas<2.0.0,>=1.3.4->pretty-confusion-matrix) (2021.3)\n",
      "Requirement already satisfied: nodeenv>=0.11.1 in /Users/ericacarneiro/opt/anaconda3/lib/python3.9/site-packages (from pre-commit<3.0.0,>=2.12.1->pretty-confusion-matrix) (1.7.0)\n",
      "Requirement already satisfied: cfgv>=2.0.0 in /Users/ericacarneiro/opt/anaconda3/lib/python3.9/site-packages (from pre-commit<3.0.0,>=2.12.1->pretty-confusion-matrix) (3.3.1)\n",
      "Requirement already satisfied: pyyaml>=5.1 in /Users/ericacarneiro/opt/anaconda3/lib/python3.9/site-packages (from pre-commit<3.0.0,>=2.12.1->pretty-confusion-matrix) (6.0)\n",
      "Requirement already satisfied: virtualenv>=20.0.8 in /Users/ericacarneiro/opt/anaconda3/lib/python3.9/site-packages (from pre-commit<3.0.0,>=2.12.1->pretty-confusion-matrix) (20.16.3)\n",
      "Requirement already satisfied: toml in /Users/ericacarneiro/opt/anaconda3/lib/python3.9/site-packages (from pre-commit<3.0.0,>=2.12.1->pretty-confusion-matrix) (0.10.2)\n",
      "Requirement already satisfied: identify>=1.0.0 in /Users/ericacarneiro/opt/anaconda3/lib/python3.9/site-packages (from pre-commit<3.0.0,>=2.12.1->pretty-confusion-matrix) (2.5.3)\n",
      "Requirement already satisfied: setuptools in /Users/ericacarneiro/opt/anaconda3/lib/python3.9/site-packages (from nodeenv>=0.11.1->pre-commit<3.0.0,>=2.12.1->pretty-confusion-matrix) (58.0.4)\n",
      "Requirement already satisfied: scipy>=1.0 in /Users/ericacarneiro/opt/anaconda3/lib/python3.9/site-packages (from seaborn<0.12.0,>=0.11.2->pretty-confusion-matrix) (1.7.1)\n",
      "Requirement already satisfied: scikit-learn in /Users/ericacarneiro/opt/anaconda3/lib/python3.9/site-packages (from sklearn<0.1,>=0.0->pretty-confusion-matrix) (0.24.2)\n",
      "Requirement already satisfied: distlib<1,>=0.3.5 in /Users/ericacarneiro/opt/anaconda3/lib/python3.9/site-packages (from virtualenv>=20.0.8->pre-commit<3.0.0,>=2.12.1->pretty-confusion-matrix) (0.3.5)\n",
      "Requirement already satisfied: filelock<4,>=3.4.1 in /Users/ericacarneiro/opt/anaconda3/lib/python3.9/site-packages (from virtualenv>=20.0.8->pre-commit<3.0.0,>=2.12.1->pretty-confusion-matrix) (3.7.1)\n",
      "Requirement already satisfied: threadpoolctl>=2.0.0 in /Users/ericacarneiro/opt/anaconda3/lib/python3.9/site-packages (from scikit-learn->sklearn<0.1,>=0.0->pretty-confusion-matrix) (2.2.0)\n",
      "Requirement already satisfied: joblib>=0.11 in /Users/ericacarneiro/opt/anaconda3/lib/python3.9/site-packages (from scikit-learn->sklearn<0.1,>=0.0->pretty-confusion-matrix) (1.1.0)\n",
      "Note: you may need to restart the kernel to use updated packages.\n"
     ]
    }
   ],
   "source": [
    "pip install pretty-confusion-matrix"
   ]
  },
  {
   "cell_type": "code",
   "execution_count": 42,
   "id": "2e63ce6a",
   "metadata": {},
   "outputs": [],
   "source": [
    "from pretty_confusion_matrix import pp_matrix"
   ]
  },
  {
   "cell_type": "code",
   "execution_count": 43,
   "id": "58d857e7",
   "metadata": {},
   "outputs": [],
   "source": [
    "from pretty_confusion_matrix import pp_matrix_from_data"
   ]
  },
  {
   "cell_type": "code",
   "execution_count": 44,
   "id": "aab5bca2",
   "metadata": {},
   "outputs": [
    {
     "data": {
      "image/png": "[encoded data removed]",
      "text/plain": [
       "<Figure size 648x648 with 1 Axes>"
      ]
     },
     "metadata": {
      "needs_background": "light"
     },
     "output_type": "display_data"
    },
    {
     "data": {
      "text/plain": [
       "<Figure size 432x288 with 0 Axes>"
      ]
     },
     "metadata": {},
     "output_type": "display_data"
    }
   ],
   "source": [
    "cmap='Greens'\n",
    ";\n",
    "y_test = np.array(y_true)\n",
    "predic = np.array(y_pred)\n",
    "pp_matrix_from_data(predic,y_test, cmap='coolwarm')\n",
    "plt.savefig('MQD_CM')"
   ]
  },
  {
   "cell_type": "code",
   "execution_count": null,
   "id": "ab06704c",
   "metadata": {},
   "outputs": [],
   "source": []
  },
  {
   "cell_type": "code",
   "execution_count": null,
   "id": "67654da7",
   "metadata": {},
   "outputs": [],
   "source": []
  },
  {
   "cell_type": "code",
   "execution_count": null,
   "id": "a10ccc97",
   "metadata": {},
   "outputs": [],
   "source": [
    "from string import ascii_uppercase\n",
    "from pandas import DataFrame\n",
    "import numpy as np\n",
    "import seaborn as sn\n",
    "\n",
    "\n",
    "y_test = y_true\n",
    "predic = y_pred\n",
    "\n",
    "columns = ['class %s' %(i) for i in list(ascii_uppercase)[0:len(np.unique(y_test))]]\n",
    "\n",
    "confm = confusion_matrix(y_test, predic)\n",
    "df_cm = DataFrame(confm, index=columns, columns=columns)\n",
    "\n",
    "ax = sn.heatmap(df_cm, cmap='Oranges', annot=True)"
   ]
  },
  {
   "cell_type": "code",
   "execution_count": null,
   "id": "d58d454c",
   "metadata": {},
   "outputs": [],
   "source": [
    "# get pandas dataframe\n",
    "df_cm = pd.DataFrame(confusion_matrix, index=range(1, 7), columns=range(1, 7))\n",
    "# colormap: see this and choose your more dear\n",
    "#cmap = 'PuRd'\n",
    "pp_matrix(df_cm, cmap=cmap)"
   ]
  },
  {
   "cell_type": "code",
   "execution_count": null,
   "id": "63f1544a",
   "metadata": {},
   "outputs": [],
   "source": []
  },
  {
   "cell_type": "code",
   "execution_count": null,
   "id": "e76e72b4",
   "metadata": {},
   "outputs": [],
   "source": []
  },
  {
   "cell_type": "code",
   "execution_count": null,
   "id": "e93e3790",
   "metadata": {},
   "outputs": [],
   "source": []
  }
 ],
 "metadata": {
  "kernelspec": {
   "display_name": "Python 3 (ipykernel)",
   "language": "python",
   "name": "python3"
  },
  "language_info": {
   "codemirror_mode": {
    "name": "ipython",
    "version": 3
   },
   "file_extension": ".py",
   "mimetype": "text/x-python",
   "name": "python",
   "nbconvert_exporter": "python",
   "pygments_lexer": "ipython3",
   "version": "3.11.3"
  }
 },
 "nbformat": 4,
 "nbformat_minor": 5
}
