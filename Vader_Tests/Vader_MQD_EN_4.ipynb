{
 "cells": [
  {
   "cell_type": "code",
   "execution_count": 1,
   "id": "727a0cf6",
   "metadata": {},
   "outputs": [],
   "source": [
    "import pandas as pd\n",
    "import nltk\n",
    "from nltk.corpus import wordnet\n",
    "from nltk.sentiment import SentimentIntensityAnalyzer"
   ]
  },
  {
   "cell_type": "code",
   "execution_count": 3,
   "id": "ee7a6bee",
   "metadata": {},
   "outputs": [
    {
     "data": {
      "text/html": [
       "<div>\n",
       "<style scoped>\n",
       "    .dataframe tbody tr th:only-of-type {\n",
       "        vertical-align: middle;\n",
       "    }\n",
       "\n",
       "    .dataframe tbody tr th {\n",
       "        vertical-align: top;\n",
       "    }\n",
       "\n",
       "    .dataframe thead th {\n",
       "        text-align: right;\n",
       "    }\n",
       "</style>\n",
       "<table border=\"1\" class=\"dataframe\">\n",
       "  <thead>\n",
       "    <tr style=\"text-align: right;\">\n",
       "      <th></th>\n",
       "      <th>Text</th>\n",
       "    </tr>\n",
       "  </thead>\n",
       "  <tbody>\n",
       "    <tr>\n",
       "      <th>0</th>\n",
       "      <td>Hi dear diary, here I am again feeling like sh...</td>\n",
       "    </tr>\n",
       "    <tr>\n",
       "      <th>1</th>\n",
       "      <td>It's worderful to know that each day we're bon...</td>\n",
       "    </tr>\n",
       "    <tr>\n",
       "      <th>2</th>\n",
       "      <td>In life we must count with the support from th...</td>\n",
       "    </tr>\n",
       "    <tr>\n",
       "      <th>3</th>\n",
       "      <td>I'm very happy and I hope you are too.</td>\n",
       "    </tr>\n",
       "    <tr>\n",
       "      <th>4</th>\n",
       "      <td>We ordered pizza to celebrate, and I wrote a l...</td>\n",
       "    </tr>\n",
       "  </tbody>\n",
       "</table>\n",
       "</div>"
      ],
      "text/plain": [
       "                                                Text\n",
       "0  Hi dear diary, here I am again feeling like sh...\n",
       "1  It's worderful to know that each day we're bon...\n",
       "2  In life we must count with the support from th...\n",
       "3             I'm very happy and I hope you are too.\n",
       "4  We ordered pizza to celebrate, and I wrote a l..."
      ]
     },
     "execution_count": 3,
     "metadata": {},
     "output_type": "execute_result"
    }
   ],
   "source": [
    "df = pd.read_csv(r'Downloads/MQD_EN_4_b.csv', names = ['Text'], sep = '|', dtype = str, encoding='utf-8')\n",
    "df.head()"
   ]
  },
  {
   "cell_type": "code",
   "execution_count": 4,
   "id": "c1f752a2",
   "metadata": {},
   "outputs": [
    {
     "name": "stderr",
     "output_type": "stream",
     "text": [
      "[nltk_data] Downloading package punkt to\n",
      "[nltk_data]     /Users/ericacarneiro/nltk_data...\n",
      "[nltk_data]   Package punkt is already up-to-date!\n"
     ]
    },
    {
     "data": {
      "text/plain": [
       "True"
      ]
     },
     "execution_count": 4,
     "metadata": {},
     "output_type": "execute_result"
    }
   ],
   "source": [
    "nltk.download('punkt')"
   ]
  },
  {
   "cell_type": "code",
   "execution_count": 5,
   "id": "f265e94d",
   "metadata": {},
   "outputs": [],
   "source": [
    "#Library needed\n",
    "\n",
    "\n",
    "import nltk, re, pprint\n",
    "from nltk import word_tokenize\n",
    "import io"
   ]
  },
  {
   "cell_type": "code",
   "execution_count": 6,
   "id": "cc85ae5e",
   "metadata": {},
   "outputs": [],
   "source": [
    "from nltk.corpus import stopwords\n",
    "import string"
   ]
  },
  {
   "cell_type": "code",
   "execution_count": 7,
   "id": "fac8a345",
   "metadata": {},
   "outputs": [],
   "source": [
    "corpus = df[\"Text\"]"
   ]
  },
  {
   "cell_type": "code",
   "execution_count": 8,
   "id": "88aa2f03",
   "metadata": {},
   "outputs": [],
   "source": [
    "from nltk.tokenize import sent_tokenize, word_tokenize\n",
    "from nltk.text import Text"
   ]
  },
  {
   "cell_type": "code",
   "execution_count": 9,
   "id": "2990fc89",
   "metadata": {},
   "outputs": [],
   "source": [
    "clean_corpus = corpus.apply(lambda corpus: corpus.lower())"
   ]
  },
  {
   "cell_type": "code",
   "execution_count": 10,
   "id": "de328135",
   "metadata": {},
   "outputs": [],
   "source": [
    "clean_corpus = clean_corpus.apply(lambda corpus: re.sub('[0-9]|,|\\.|/|$|\\(|\\)|-|\\+|:|•', ' ', corpus))\n",
    "#clean_corpus = clean_corpus.apply(lambda corpus: unidecode(corpus))"
   ]
  },
  {
   "cell_type": "code",
   "execution_count": 11,
   "id": "bbc1a7ef",
   "metadata": {},
   "outputs": [
    {
     "name": "stdout",
     "output_type": "stream",
     "text": [
      "0       hi dear diary  here i am again feeling like sh...\n",
      "1       it's worderful to know that each day we're bon...\n",
      "2       in life we must count with the support from th...\n",
      "3                 i'm very happy and i hope you are too  \n",
      "4       we ordered pizza to celebrate  and i wrote a l...\n",
      "                              ...                        \n",
      "1460        currently i'm in a homossexual relationship  \n",
      "1461    today i started the day talking with gabriel  ...\n",
      "1462    but he is beautiful  that smile  the way that ...\n",
      "1463    i've sent an email to my \"colleague\" on last w...\n",
      "1464    i don't want them to jugde me  curse me or any...\n",
      "Name: Text, Length: 1465, dtype: object\n"
     ]
    }
   ],
   "source": [
    "print(clean_corpus)"
   ]
  },
  {
   "cell_type": "code",
   "execution_count": 12,
   "id": "c97bc9af",
   "metadata": {},
   "outputs": [
    {
     "data": {
      "text/plain": [
       "pandas.core.series.Series"
      ]
     },
     "execution_count": 12,
     "metadata": {},
     "output_type": "execute_result"
    }
   ],
   "source": [
    "type(clean_corpus)\n"
   ]
  },
  {
   "cell_type": "code",
   "execution_count": 13,
   "id": "6deb9d6d",
   "metadata": {},
   "outputs": [
    {
     "name": "stdout",
     "output_type": "stream",
     "text": [
      "Requirement already satisfied: vaderSentiment in ./opt/anaconda3/lib/python3.9/site-packages (3.3.2)\n",
      "Requirement already satisfied: requests in ./opt/anaconda3/lib/python3.9/site-packages (from vaderSentiment) (2.26.0)\n",
      "Requirement already satisfied: certifi>=2017.4.17 in ./opt/anaconda3/lib/python3.9/site-packages (from requests->vaderSentiment) (2022.12.7)\n",
      "Requirement already satisfied: idna<4,>=2.5 in ./opt/anaconda3/lib/python3.9/site-packages (from requests->vaderSentiment) (2.10)\n",
      "Requirement already satisfied: charset-normalizer~=2.0.0 in ./opt/anaconda3/lib/python3.9/site-packages (from requests->vaderSentiment) (2.0.4)\n",
      "Requirement already satisfied: urllib3<1.27,>=1.21.1 in ./opt/anaconda3/lib/python3.9/site-packages (from requests->vaderSentiment) (1.26.7)\n",
      "Note: you may need to restart the kernel to use updated packages.\n"
     ]
    }
   ],
   "source": [
    "pip install vaderSentiment"
   ]
  },
  {
   "cell_type": "code",
   "execution_count": 14,
   "id": "a73a55dc",
   "metadata": {},
   "outputs": [],
   "source": [
    "from vaderSentiment.vaderSentiment import SentimentIntensityAnalyzer"
   ]
  },
  {
   "cell_type": "code",
   "execution_count": 15,
   "id": "fea63f9b",
   "metadata": {},
   "outputs": [],
   "source": [
    "def sentiment_vader(sentence):\n",
    "\n",
    "    # Create a SentimentIntensityAnalyzer object.\n",
    "    sid_obj = SentimentIntensityAnalyzer()\n",
    "    \n",
    "\n",
    "    sentiment_dict = sid_obj.polarity_scores(sentence)\n",
    "    negative = sentiment_dict['neg']\n",
    "    neutral = sentiment_dict['neu']\n",
    "    positive = sentiment_dict['pos']\n",
    "    compound = sentiment_dict['compound']\n",
    "\n",
    "    if sentiment_dict['compound'] >= 0.05 :\n",
    "        overall_sentiment = \"Positive\"\n",
    "\n",
    "    elif sentiment_dict['compound'] <= - 0.05 :\n",
    "        overall_sentiment = \"Negative\"\n",
    "\n",
    "    else :\n",
    "        overall_sentiment = \"Neutral\"\n",
    "  \n",
    "    return negative, neutral, positive, compound, overall_sentiment\n"
   ]
  },
  {
   "cell_type": "code",
   "execution_count": 16,
   "id": "39cca30e",
   "metadata": {},
   "outputs": [],
   "source": [
    "sent= sentiment_vader(clean_corpus)"
   ]
  },
  {
   "cell_type": "code",
   "execution_count": 17,
   "id": "4649bdc3",
   "metadata": {},
   "outputs": [
    {
     "name": "stdout",
     "output_type": "stream",
     "text": [
      "(0.108, 0.704, 0.188, 1.0, 'Positive')\n"
     ]
    }
   ],
   "source": [
    "print(sent)"
   ]
  },
  {
   "cell_type": "code",
   "execution_count": 18,
   "id": "767bb24e",
   "metadata": {},
   "outputs": [
    {
     "data": {
      "text/plain": [
       "0       (0.272, 0.431, 0.297, -0.2481, Negative)\n",
       "1                  (0.0, 1.0, 0.0, 0.0, Neutral)\n",
       "2          (0.0, 0.876, 0.124, 0.4019, Positive)\n",
       "3          (0.0, 0.504, 0.496, 0.7841, Positive)\n",
       "4            (0.0, 0.81, 0.19, 0.6114, Positive)\n",
       "                          ...                   \n",
       "1460               (0.0, 1.0, 0.0, 0.0, Neutral)\n",
       "1461      (0.111, 0.889, 0.0, -0.3612, Negative)\n",
       "1462        (0.0, 0.499, 0.501, 0.933, Positive)\n",
       "1463               (0.0, 1.0, 0.0, 0.0, Neutral)\n",
       "1464    (0.202, 0.645, 0.153, -0.2991, Negative)\n",
       "Name: Text, Length: 1465, dtype: object"
      ]
     },
     "execution_count": 18,
     "metadata": {},
     "output_type": "execute_result"
    }
   ],
   "source": [
    "clean_corpus.apply(sentiment_vader)"
   ]
  },
  {
   "cell_type": "code",
   "execution_count": 19,
   "id": "a68b9f78",
   "metadata": {},
   "outputs": [],
   "source": [
    "sent =  clean_corpus.apply(sentiment_vader)"
   ]
  },
  {
   "cell_type": "code",
   "execution_count": 20,
   "id": "45e309dc",
   "metadata": {},
   "outputs": [
    {
     "name": "stdout",
     "output_type": "stream",
     "text": [
      "0       (0.272, 0.431, 0.297, -0.2481, Negative)\n",
      "1                  (0.0, 1.0, 0.0, 0.0, Neutral)\n",
      "2          (0.0, 0.876, 0.124, 0.4019, Positive)\n",
      "3          (0.0, 0.504, 0.496, 0.7841, Positive)\n",
      "4            (0.0, 0.81, 0.19, 0.6114, Positive)\n",
      "                          ...                   \n",
      "1460               (0.0, 1.0, 0.0, 0.0, Neutral)\n",
      "1461      (0.111, 0.889, 0.0, -0.3612, Negative)\n",
      "1462        (0.0, 0.499, 0.501, 0.933, Positive)\n",
      "1463               (0.0, 1.0, 0.0, 0.0, Neutral)\n",
      "1464    (0.202, 0.645, 0.153, -0.2991, Negative)\n",
      "Name: Text, Length: 1465, dtype: object\n"
     ]
    }
   ],
   "source": [
    "print(sent)"
   ]
  },
  {
   "cell_type": "code",
   "execution_count": 21,
   "id": "45eb43a2",
   "metadata": {},
   "outputs": [
    {
     "data": {
      "text/plain": [
       "pandas.core.series.Series"
      ]
     },
     "execution_count": 21,
     "metadata": {},
     "output_type": "execute_result"
    }
   ],
   "source": [
    "type(sent)"
   ]
  },
  {
   "cell_type": "code",
   "execution_count": 22,
   "id": "6669b1ba",
   "metadata": {},
   "outputs": [
    {
     "data": {
      "text/html": [
       "<div>\n",
       "<style scoped>\n",
       "    .dataframe tbody tr th:only-of-type {\n",
       "        vertical-align: middle;\n",
       "    }\n",
       "\n",
       "    .dataframe tbody tr th {\n",
       "        vertical-align: top;\n",
       "    }\n",
       "\n",
       "    .dataframe thead th {\n",
       "        text-align: right;\n",
       "    }\n",
       "</style>\n",
       "<table border=\"1\" class=\"dataframe\">\n",
       "  <thead>\n",
       "    <tr style=\"text-align: right;\">\n",
       "      <th></th>\n",
       "      <th>Text</th>\n",
       "      <th>Text</th>\n",
       "    </tr>\n",
       "  </thead>\n",
       "  <tbody>\n",
       "    <tr>\n",
       "      <th>0</th>\n",
       "      <td>(0.272, 0.431, 0.297, -0.2481, Negative)</td>\n",
       "      <td>hi dear diary  here i am again feeling like sh...</td>\n",
       "    </tr>\n",
       "    <tr>\n",
       "      <th>1</th>\n",
       "      <td>(0.0, 1.0, 0.0, 0.0, Neutral)</td>\n",
       "      <td>it's worderful to know that each day we're bon...</td>\n",
       "    </tr>\n",
       "    <tr>\n",
       "      <th>2</th>\n",
       "      <td>(0.0, 0.876, 0.124, 0.4019, Positive)</td>\n",
       "      <td>in life we must count with the support from th...</td>\n",
       "    </tr>\n",
       "    <tr>\n",
       "      <th>3</th>\n",
       "      <td>(0.0, 0.504, 0.496, 0.7841, Positive)</td>\n",
       "      <td>i'm very happy and i hope you are too</td>\n",
       "    </tr>\n",
       "    <tr>\n",
       "      <th>4</th>\n",
       "      <td>(0.0, 0.81, 0.19, 0.6114, Positive)</td>\n",
       "      <td>we ordered pizza to celebrate  and i wrote a l...</td>\n",
       "    </tr>\n",
       "    <tr>\n",
       "      <th>...</th>\n",
       "      <td>...</td>\n",
       "      <td>...</td>\n",
       "    </tr>\n",
       "    <tr>\n",
       "      <th>1460</th>\n",
       "      <td>(0.0, 1.0, 0.0, 0.0, Neutral)</td>\n",
       "      <td>currently i'm in a homossexual relationship</td>\n",
       "    </tr>\n",
       "    <tr>\n",
       "      <th>1461</th>\n",
       "      <td>(0.111, 0.889, 0.0, -0.3612, Negative)</td>\n",
       "      <td>today i started the day talking with gabriel  ...</td>\n",
       "    </tr>\n",
       "    <tr>\n",
       "      <th>1462</th>\n",
       "      <td>(0.0, 0.499, 0.501, 0.933, Positive)</td>\n",
       "      <td>but he is beautiful  that smile  the way that ...</td>\n",
       "    </tr>\n",
       "    <tr>\n",
       "      <th>1463</th>\n",
       "      <td>(0.0, 1.0, 0.0, 0.0, Neutral)</td>\n",
       "      <td>i've sent an email to my \"colleague\" on last w...</td>\n",
       "    </tr>\n",
       "    <tr>\n",
       "      <th>1464</th>\n",
       "      <td>(0.202, 0.645, 0.153, -0.2991, Negative)</td>\n",
       "      <td>i don't want them to jugde me  curse me or any...</td>\n",
       "    </tr>\n",
       "  </tbody>\n",
       "</table>\n",
       "<p>1465 rows × 2 columns</p>\n",
       "</div>"
      ],
      "text/plain": [
       "                                          Text  \\\n",
       "0     (0.272, 0.431, 0.297, -0.2481, Negative)   \n",
       "1                (0.0, 1.0, 0.0, 0.0, Neutral)   \n",
       "2        (0.0, 0.876, 0.124, 0.4019, Positive)   \n",
       "3        (0.0, 0.504, 0.496, 0.7841, Positive)   \n",
       "4          (0.0, 0.81, 0.19, 0.6114, Positive)   \n",
       "...                                        ...   \n",
       "1460             (0.0, 1.0, 0.0, 0.0, Neutral)   \n",
       "1461    (0.111, 0.889, 0.0, -0.3612, Negative)   \n",
       "1462      (0.0, 0.499, 0.501, 0.933, Positive)   \n",
       "1463             (0.0, 1.0, 0.0, 0.0, Neutral)   \n",
       "1464  (0.202, 0.645, 0.153, -0.2991, Negative)   \n",
       "\n",
       "                                                   Text  \n",
       "0     hi dear diary  here i am again feeling like sh...  \n",
       "1     it's worderful to know that each day we're bon...  \n",
       "2     in life we must count with the support from th...  \n",
       "3               i'm very happy and i hope you are too    \n",
       "4     we ordered pizza to celebrate  and i wrote a l...  \n",
       "...                                                 ...  \n",
       "1460      currently i'm in a homossexual relationship    \n",
       "1461  today i started the day talking with gabriel  ...  \n",
       "1462  but he is beautiful  that smile  the way that ...  \n",
       "1463  i've sent an email to my \"colleague\" on last w...  \n",
       "1464  i don't want them to jugde me  curse me or any...  \n",
       "\n",
       "[1465 rows x 2 columns]"
      ]
     },
     "execution_count": 22,
     "metadata": {},
     "output_type": "execute_result"
    }
   ],
   "source": [
    "#Concatena dois dataframes em um terceiro, novo dataframe\n",
    "sent_vader = pd.concat([sent, clean_corpus], axis=1)\n",
    "\n",
    "sent_vader"
   ]
  },
  {
   "cell_type": "code",
   "execution_count": 23,
   "id": "787d3fbb",
   "metadata": {},
   "outputs": [],
   "source": [
    "vader_emo4 = sent_vader.to_csv(\"vader_emo4.csv\")"
   ]
  },
  {
   "cell_type": "code",
   "execution_count": null,
   "id": "21fdba92",
   "metadata": {},
   "outputs": [],
   "source": []
  }
 ],
 "metadata": {
  "kernelspec": {
   "display_name": "Python 3 (ipykernel)",
   "language": "python",
   "name": "python3"
  },
  "language_info": {
   "codemirror_mode": {
    "name": "ipython",
    "version": 3
   },
   "file_extension": ".py",
   "mimetype": "text/x-python",
   "name": "python",
   "nbconvert_exporter": "python",
   "pygments_lexer": "ipython3",
   "version": "3.9.7"
  }
 },
 "nbformat": 4,
 "nbformat_minor": 5
}
